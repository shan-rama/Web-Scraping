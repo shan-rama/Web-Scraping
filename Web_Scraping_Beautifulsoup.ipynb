{
 "cells": [
  {
   "cell_type": "code",
   "execution_count": 1,
   "metadata": {
    "colab": {},
    "colab_type": "code",
    "id": "bpMAWIuxgsDL",
    "scrolled": true
   },
   "outputs": [],
   "source": [
    "# Importing all required libraries\n",
    "import requests\n",
    "import json\n",
    "from IPython.display import HTML\n",
    "import bs4\n",
    "from IPython.display import display, Image"
   ]
  },
  {
   "cell_type": "markdown",
   "metadata": {
    "colab_type": "text",
    "id": "Y7x2U23HgsDQ"
   },
   "source": [
    "# Synopsis\n",
    "\n",
    "In this unit we will cover:\n",
    "\n",
    "* The structure of Web pages\n",
    "* What is HTML/CSS\n",
    "* How to extract information from HTML pages\n",
    "* Techniques for navigating and scraping web pages\n",
    "\n",
    "\n",
    "# Interacting with the Web\n",
    "\n",
    "In the previous units, we learned how to retrieve data from Web sources using APIs. But what if the organization hosting the data does not have the forethought or resources to create an API (or if they do not want to share their data)?  Then, we have to **crawl** their website and **scrape** their data.\n",
    "\n",
    "To do this, we will be using our dependable `requests` library.  However, we will need to call upon a few other resources.  In particular, we will need to understand the code in which webpages are written.\n"
   ]
  },
  {
   "cell_type": "markdown",
   "metadata": {
    "colab_type": "text",
    "id": "E8Mp-8n1gsDT"
   },
   "source": [
    "## Detour: A (very brief) intro to HTML\n",
    "\n",
    "HTML is a markup language for describing web documents. It stands for **H**yper **T**ext **M**arkup **L**anguage. HTML, together with CSS (**C**ascading **S**tyle **S**heets for _styling_ web documents) and Javascript (for _animating_ web documents), it is the language that is used to construct web pages.\n",
    "\n",
    "HTML documents are built using a series of HTML _tags_. Each tag describes a different type of content. Web pages are built by putting together different tags.\n",
    "\n",
    "This is the general HTML tag structure:\n",
    "\n",
    "```html\n",
    "<tagname tag_attribute1=\"attribute1value1 attribute1value2\" tag_attribute2=\"attribute2value1\">tag contents</tagname>\n",
    "```\n",
    "* Tags (usually) have both a start (or opening) tag, <tagname> and an end (or closing) tag, </tagname>\n",
    "* Tags can also have attributes which are declared _inside_ the opening tag.\n",
    "* The actual tag _content_ goes inbetween the opening and closing tags."
   ]
  },
  {
   "cell_type": "markdown",
   "metadata": {
    "colab_type": "text",
    "id": "sXd2KBJAgsDV"
   },
   "source": [
    "Tags can be contained (nested) inside other tags, which defines relationships between them:\n",
    "\n",
    "```html\n",
    "<parent>\n",
    "  <brother></brother>\n",
    "  <sister>\n",
    "    <grandson></grandson>\n",
    "  </sister>\n",
    "</parent>\n",
    "```\n",
    "\n",
    "* `<parent>` is the _parent_ tag of `<brother>` and `<sister>`\n",
    "* `<brother>` and `<sister>` are the _children_ or _direct descendant_ tags of `<parent>`\n",
    "* `<brother>`, `<sister>`, and `<grandson>` are the _descendant_ tags of `<parent>`\n",
    "* `<brother>` and `<sister>` are _sibling_ tags"
   ]
  },
  {
   "cell_type": "markdown",
   "metadata": {
    "colab_type": "text",
    "id": "YUMYtkS-gsDW"
   },
   "source": [
    "Here's a very simple web document:\n",
    "\n",
    "```html\n",
    "<!DOCTYPE html>\n",
    "<html>\n",
    "  <head>\n",
    "    <title>Page Title</title> \n",
    "  </head>\n",
    "\n",
    "  <body>\n",
    "    <h1>My First Heading</h1>\n",
    "    <p>My first paragraph.</p>\n",
    "  </body>\n",
    "</html> \n",
    "```\n",
    "\n",
    "Here, `<h1>` and `<p>` are sibling tags, `<body>` is their parent tag, and all three are descendent tags of `<html>`\n",
    "\n",
    "When you access any URL, your browser (Chrome, Firefox, Safari, IE, etc.) is actually reading a document such as this one and using the tags within the document to decide how to render the page for you.\n",
    "\n",
    "Jupyter is able to render a (python) string of HTML code as real HTML in the notebook itself!"
   ]
  },
  {
   "cell_type": "code",
   "execution_count": 2,
   "metadata": {
    "colab": {
     "base_uri": "https://localhost:8080/",
     "height": 201
    },
    "colab_type": "code",
    "executionInfo": {
     "elapsed": 2003,
     "status": "error",
     "timestamp": 1557650061974,
     "user": {
      "displayName": "Desmond Sek",
      "photoUrl": "https://lh3.googleusercontent.com/-kpaWQQmtEpQ/AAAAAAAAAAI/AAAAAAAAc5k/V4TZA_YKVSI/s64/photo.jpg",
      "userId": "15004601375355093954"
     },
     "user_tz": -480
    },
    "id": "lvkcE7vMgsDY",
    "outputId": "f8e6f9b4-4738-471a-cc2f-194f37c89eaa",
    "scrolled": true
   },
   "outputs": [
    {
     "data": {
      "text/html": [
       "\n",
       "<!DOCTYPE html>\n",
       "<html>\n",
       "  <head>\n",
       "    <title>Page Title</title>\n",
       "  </head>\n",
       "  \n",
       "  <body>\n",
       "    <h1>My First Heading</h1>\n",
       "    <p>My first paragraph.</p>\n",
       "  </body>\n",
       "\n",
       "</html> \n"
      ],
      "text/plain": [
       "<IPython.core.display.HTML object>"
      ]
     },
     "execution_count": 2,
     "metadata": {},
     "output_type": "execute_result"
    }
   ],
   "source": [
    "#from IPython.display import HTML\n",
    "\n",
    "first_html = \"\"\"\n",
    "<!DOCTYPE html>\n",
    "<html>\n",
    "  <head>\n",
    "    <title>Page Title</title>\n",
    "  </head>\n",
    "  \n",
    "  <body>\n",
    "    <h1>My First Heading</h1>\n",
    "    <p>My first paragraph.</p>\n",
    "  </body>\n",
    "\n",
    "</html> \n",
    "\"\"\"\n",
    "\n",
    "HTML(first_html)"
   ]
  },
  {
   "cell_type": "markdown",
   "metadata": {
    "colab_type": "text",
    "id": "deG12uQFgsDe"
   },
   "source": [
    "#### Let's look at what the different tags mean:\n",
    "\n",
    "```html\n",
    "<!-- This is how you write a comment in HTML. Comments will not show up in the browser -->\n",
    "\n",
    "<!-- This line simply identifies the document type to be HTML-->\n",
    "<!DOCTYPE html>\n",
    "<!-- Content between <html> and </html> tags define everything about the document-->\n",
    "<html>\n",
    "  <!-- Tags inside the <head> are not rendered but provide general information about the document -->\n",
    "  <head>\n",
    "    <!-- Like the <title> tag which provides a title that appears in the browser's title and tab bars -->\n",
    "    <title>Page Title</title>\n",
    "  </head>\n",
    "  \n",
    "  <!-- Anything inside the <body> tags describes visible page content -->\n",
    "  <body>\n",
    "    <!-- The <h1> defines a header. The number defines the size of the header. -->\n",
    "    <!-- There are 6 levels of headers: <h1> to <h6> -->\n",
    "    <!-- The higher the number, the lower the font used to display it. -->\n",
    "    <h1>My First Heading</h1>\n",
    "    <!-- The <p> represents a paragraph.-->\n",
    "    <p>My first paragraph.</p>\n",
    "  </body>\n",
    "</html>\n",
    "```"
   ]
  },
  {
   "cell_type": "markdown",
   "metadata": {
    "colab_type": "text",
    "id": "YvOBregIgsDg"
   },
   "source": [
    "**Different levels of headers**\n",
    "\n",
    "```html\n",
    "<h1>This is heading 1</h1>\n",
    "<h2>This is heading 2</h2>\n",
    "<h3>This is heading 3</h3>\n",
    "<h4>This is heading 4</h4>\n",
    "<h5>This is heading 5</h5>\n",
    "<h6>This is heading 6</h6> \n",
    "```\n",
    "\n",
    "**Links**\n",
    "```html\n",
    "<a href=\"http://www.website.com\">Click to go to website.com</a>\n",
    "```\n",
    "\n",
    "**Images**\n",
    "```html\n",
    "<!-- Notice that the image tag has no closing tag and no content outside the opening tag -->\n",
    "<img src=\"smiley.gif\">\n",
    "```\n",
    "\n",
    "**Lists**\n",
    "```html\n",
    "<!-- Unordered (bulleted) list -->\n",
    "<ul>\n",
    "  <li>One Element</li>\n",
    "  <li>Another Element</li>\n",
    "</ul>\n",
    "\n",
    "<!-- Ordered (numbered) list -->\n",
    "<ol>\n",
    "  <li>First Ordered Element</li>\n",
    "  <li>Second Ordered Element</li>\n",
    "</ol>\n",
    "```\n",
    "\n",
    "**Tables**\n",
    "```html\n",
    "<table>\n",
    "  <!-- An HTML table is defined as a series of rows (<tr>) -->\n",
    "  <!-- The individual cell (<td>) contents are nested inside rows -->\n",
    "  \n",
    "  <!-- The <tr> tag is optional and is the parent of column headers (<th>) -->\n",
    "  <tr>\n",
    "    <th>First Header</th>\n",
    "    <th>Second Header</th>\n",
    "  </tr>\n",
    "  <tr>\n",
    "    <td>Row 2, Col 1</td>\n",
    "    <td>Row 2, Col 2</td>\n",
    "  </tr>\n",
    "  <tr>\n",
    "    <td>Row 3, Col 1</td>\n",
    "    <td>Row 3, Col 2</td>\n",
    "  </tr>\n",
    "</table>\n",
    "```"
   ]
  },
  {
   "cell_type": "code",
   "execution_count": 3,
   "metadata": {
    "colab": {
     "base_uri": "https://localhost:8080/",
     "height": 480,
     "resources": {
      "http://localhost:8080/Data/www/images/smiley.png": {
       "data": "CjwhRE9DVFlQRSBodG1sPgo8aHRtbCBsYW5nPWVuPgogIDxtZXRhIGNoYXJzZXQ9dXRmLTg+CiAgPG1ldGEgbmFtZT12aWV3cG9ydCBjb250ZW50PSJpbml0aWFsLXNjYWxlPTEsIG1pbmltdW0tc2NhbGU9MSwgd2lkdGg9ZGV2aWNlLXdpZHRoIj4KICA8dGl0bGU+RXJyb3IgNDA0IChOb3QgRm91bmQpISExPC90aXRsZT4KICA8c3R5bGU+CiAgICAqe21hcmdpbjowO3BhZGRpbmc6MH1odG1sLGNvZGV7Zm9udDoxNXB4LzIycHggYXJpYWwsc2Fucy1zZXJpZn1odG1se2JhY2tncm91bmQ6I2ZmZjtjb2xvcjojMjIyO3BhZGRpbmc6MTVweH1ib2R5e21hcmdpbjo3JSBhdXRvIDA7bWF4LXdpZHRoOjM5MHB4O21pbi1oZWlnaHQ6MTgwcHg7cGFkZGluZzozMHB4IDAgMTVweH0qID4gYm9keXtiYWNrZ3JvdW5kOnVybCgvL3d3dy5nb29nbGUuY29tL2ltYWdlcy9lcnJvcnMvcm9ib3QucG5nKSAxMDAlIDVweCBuby1yZXBlYXQ7cGFkZGluZy1yaWdodDoyMDVweH1we21hcmdpbjoxMXB4IDAgMjJweDtvdmVyZmxvdzpoaWRkZW59aW5ze2NvbG9yOiM3Nzc7dGV4dC1kZWNvcmF0aW9uOm5vbmV9YSBpbWd7Ym9yZGVyOjB9QG1lZGlhIHNjcmVlbiBhbmQgKG1heC13aWR0aDo3NzJweCl7Ym9keXtiYWNrZ3JvdW5kOm5vbmU7bWFyZ2luLXRvcDowO21heC13aWR0aDpub25lO3BhZGRpbmctcmlnaHQ6MH19I2xvZ297YmFja2dyb3VuZDp1cmwoLy93d3cuZ29vZ2xlLmNvbS9pbWFnZXMvbG9nb3MvZXJyb3JwYWdlL2Vycm9yX2xvZ28tMTUweDU0LnBuZykgbm8tcmVwZWF0O21hcmdpbi1sZWZ0Oi01cHh9QG1lZGlhIG9ubHkgc2NyZWVuIGFuZCAobWluLXJlc29sdXRpb246MTkyZHBpKXsjbG9nb3tiYWNrZ3JvdW5kOnVybCgvL3d3dy5nb29nbGUuY29tL2ltYWdlcy9sb2dvcy9lcnJvcnBhZ2UvZXJyb3JfbG9nby0xNTB4NTQtMngucG5nKSBuby1yZXBlYXQgMCUgMCUvMTAwJSAxMDAlOy1tb3otYm9yZGVyLWltYWdlOnVybCgvL3d3dy5nb29nbGUuY29tL2ltYWdlcy9sb2dvcy9lcnJvcnBhZ2UvZXJyb3JfbG9nby0xNTB4NTQtMngucG5nKSAwfX1AbWVkaWEgb25seSBzY3JlZW4gYW5kICgtd2Via2l0LW1pbi1kZXZpY2UtcGl4ZWwtcmF0aW86Mil7I2xvZ297YmFja2dyb3VuZDp1cmwoLy93d3cuZ29vZ2xlLmNvbS9pbWFnZXMvbG9nb3MvZXJyb3JwYWdlL2Vycm9yX2xvZ28tMTUweDU0LTJ4LnBuZykgbm8tcmVwZWF0Oy13ZWJraXQtYmFja2dyb3VuZC1zaXplOjEwMCUgMTAwJX19I2xvZ297ZGlzcGxheTppbmxpbmUtYmxvY2s7aGVpZ2h0OjU0cHg7d2lkdGg6MTUwcHh9CiAgPC9zdHlsZT4KICA8YSBocmVmPS8vd3d3Lmdvb2dsZS5jb20vPjxzcGFuIGlkPWxvZ28gYXJpYS1sYWJlbD1Hb29nbGU+PC9zcGFuPjwvYT4KICA8cD48Yj40MDQuPC9iPiA8aW5zPlRoYXTigJlzIGFuIGVycm9yLjwvaW5zPgogIDxwPiAgPGlucz5UaGF04oCZcyBhbGwgd2Uga25vdy48L2lucz4K",
       "headers": [
        [
         "content-length",
         "1449"
        ],
        [
         "content-type",
         "text/html; charset=utf-8"
        ]
       ],
       "ok": false,
       "status": 404,
       "status_text": ""
      }
     }
    },
    "colab_type": "code",
    "executionInfo": {
     "elapsed": 1282,
     "status": "ok",
     "timestamp": 1557638223511,
     "user": {
      "displayName": "Desmond Sek",
      "photoUrl": "https://lh3.googleusercontent.com/-kpaWQQmtEpQ/AAAAAAAAAAI/AAAAAAAAc5k/V4TZA_YKVSI/s64/photo.jpg",
      "userId": "15004601375355093954"
     },
     "user_tz": -480
    },
    "id": "aLJ1BCNlgsDi",
    "outputId": "e8e701ad-574d-4667-e281-13ce682e674b"
   },
   "outputs": [
    {
     "data": {
      "text/html": [
       "\n",
       "<html>\n",
       "<head>\n",
       "  <title>More HTML Tags</title>\n",
       "</head>\n",
       "<body>\n",
       "  <h1>This is heading 1</h1>\n",
       "  <h2>This is heading 2</h2>\n",
       "  <h3>This is heading 3</h3>\n",
       "  <h4>This is heading 4</h4>\n",
       "  <h5>This is heading 5</h5>\n",
       "  <h6>This is heading 6</h6>\n",
       "\n",
       "  <br>\n",
       "  \n",
       "  <a href=\"http://www.website.com\">Click to go to website.com</a>\n",
       "\n",
       "  <p><img src=\"../Data/www/images/smiley.png\" alt=\"smiley face\"></p>\n",
       "\n",
       "  <ul>\n",
       "    <li>One Element</li>\n",
       "    <li>Another Element</li>\n",
       "  </ul>\n",
       "\n",
       "  <ol>\n",
       "    <li>First Ordered Element</li>\n",
       "    <li>Second Ordered Element</li>\n",
       "  </ol>\n",
       "\n",
       "  <table>\n",
       "    <!-- An HTML table is defined as a series of rows (<tr>) -->\n",
       "    <!-- The individual cell (<td>) contents are nested inside rows -->\n",
       "    <tr>\n",
       "      <!-- The <tr> tag defines a column headers -->\n",
       "      <th>First Header</th>\n",
       "      <th>Second Header</th>\n",
       "    </tr>\n",
       "    <tr>\n",
       "      <td>Row 2, Col 1</td>\n",
       "      <td>Row 2, Col 2</td>\n",
       "    </tr>\n",
       "    <tr>\n",
       "    <td>Row 3, Col 1</td>\n",
       "    <td>Row 3, Col 2</td>\n",
       "  </tr>\n",
       "  </table>\n",
       "</body>\n",
       "</html>\n"
      ],
      "text/plain": [
       "<IPython.core.display.HTML object>"
      ]
     },
     "execution_count": 3,
     "metadata": {
      "tags": []
     },
     "output_type": "execute_result"
    }
   ],
   "source": [
    "more_tags = \"\"\"\n",
    "<html>\n",
    "<head>\n",
    "  <title>More HTML Tags</title>\n",
    "</head>\n",
    "<body>\n",
    "  <h1>This is heading 1</h1>\n",
    "  <h2>This is heading 2</h2>\n",
    "  <h3>This is heading 3</h3>\n",
    "  <h4>This is heading 4</h4>\n",
    "  <h5>This is heading 5</h5>\n",
    "  <h6>This is heading 6</h6>\n",
    "\n",
    "  <br>\n",
    "  \n",
    "  <a href=\"http://www.website.com\">Click to go to website.com</a>\n",
    "\n",
    "  <p><img src=\"../Data/www/images/smiley.png\" alt=\"smiley face\"></p>\n",
    "\n",
    "  <ul>\n",
    "    <li>One Element</li>\n",
    "    <li>Another Element</li>\n",
    "  </ul>\n",
    "\n",
    "  <ol>\n",
    "    <li>First Ordered Element</li>\n",
    "    <li>Second Ordered Element</li>\n",
    "  </ol>\n",
    "\n",
    "  <table>\n",
    "    <!-- An HTML table is defined as a series of rows (<tr>) -->\n",
    "    <!-- The individual cell (<td>) contents are nested inside rows -->\n",
    "    <tr>\n",
    "      <!-- The <tr> tag defines a column headers -->\n",
    "      <th>First Header</th>\n",
    "      <th>Second Header</th>\n",
    "    </tr>\n",
    "    <tr>\n",
    "      <td>Row 2, Col 1</td>\n",
    "      <td>Row 2, Col 2</td>\n",
    "    </tr>\n",
    "    <tr>\n",
    "    <td>Row 3, Col 1</td>\n",
    "    <td>Row 3, Col 2</td>\n",
    "  </tr>\n",
    "  </table>\n",
    "</body>\n",
    "</html>\n",
    "\"\"\"\n",
    "\n",
    "HTML(more_tags)"
   ]
  },
  {
   "cell_type": "markdown",
   "metadata": {
    "colab_type": "text",
    "id": "dc-ztvWDgsDl"
   },
   "source": [
    "+++"
   ]
  },
  {
   "cell_type": "markdown",
   "metadata": {
    "colab_type": "text",
    "id": "tVJ9XhjWgsDn"
   },
   "source": [
    "If you want to know more about HTML, I recommend the excellent w3schools website: http://www.w3schools.com/html/html_intro.asp"
   ]
  },
  {
   "cell_type": "markdown",
   "metadata": {
    "colab_type": "text",
    "id": "f2GwJs_LgsDo"
   },
   "source": [
    "\n",
    "#### Ok, back to web scraping\n",
    "\n",
    "Now we are all HTML experts. Great! We're almost ready to start parsing and analyzing a scraped web page. There's just one last item of business we need to discuss before we get started."
   ]
  },
  {
   "cell_type": "markdown",
   "metadata": {
    "colab_type": "text",
    "id": "8jg42P5FgsDq"
   },
   "source": [
    "### Viewing a page's source code\n",
    "\n",
    "In order to extract elements of interest from a webpage we need to know where they sit in the webpage's HTML tree.\n",
    "This means that you need to look at a webpage's HTML source code before you can even start scraping it. Not only that but, during your web scraping you will be switching back and forth between the actual scraping (we'll get there really soon, I promise!) and the webpage's source code.\n",
    "\n",
    "How do we view a page's source code then?\n",
    "\n",
    "* To view the **full page** source code:\n",
    "  1. Right-click anywhere on the webpage **that is not a link**\n",
    "  2. Click \"View Page Source\" (<kbd>CTRL</kbd>+<kbd>U</kbd>) in Firefox or Chrome, or \"Show page source\" (<kbd>&#8997;</kbd>+<kbd>&#8984;</kbd>+<kbd>U</kbd>) in Safari.\n",
    "    * In order to view the source code in Safari the Develop menu must be enabled first: Preferences > Advanced > Show Develop menu in menu bar\n",
    "    \n",
    "* To view the source code zoomed-in on **a single element** (and with better formatting!):\n",
    "  1. Right-click any element in the webpage.\n",
    "  2. Click \"Inspect Element\""
   ]
  },
  {
   "cell_type": "markdown",
   "metadata": {
    "colab_type": "text",
    "id": "s_MjAK4qgsDr"
   },
   "source": [
    "##  Beautiful Soup!\n",
    "\n",
    "We made it! We are now ready to start scraping web pages. In order to do so we are going to use [`BeautifulSoup`](http://www.crummy.com/software/BeautifulSoup/bs4/doc/), a powerful python package to parse web pages you already scraped. Normally you would use `requests` (to GET the page) and then `BeautifulSoup` to analyse the web page.\n",
    "\n",
    "We will use the wikipedia page for a player from Germany's national football team as an example: https://en.wikipedia.org/wiki/Erik_Durm."
   ]
  },
  {
   "cell_type": "code",
   "execution_count": 4,
   "metadata": {
    "colab": {},
    "colab_type": "code",
    "id": "77JlswLjgsDs"
   },
   "outputs": [],
   "source": [
    "# Beautiful Soup version 4.x\n",
    "import bs4"
   ]
  },
  {
   "cell_type": "markdown",
   "metadata": {
    "colab_type": "text",
    "id": "SOv_whcLgsDz"
   },
   "source": [
    "We start by opening up the page and convert it to a `soup` object. Then, we're going to use the `find` method to find the page's `<title>` tag and print it."
   ]
  },
  {
   "cell_type": "code",
   "execution_count": 5,
   "metadata": {
    "colab": {
     "base_uri": "https://localhost:8080/",
     "height": 52
    },
    "colab_type": "code",
    "executionInfo": {
     "elapsed": 744,
     "status": "ok",
     "timestamp": 1557650187907,
     "user": {
      "displayName": "Desmond Sek",
      "photoUrl": "https://lh3.googleusercontent.com/-kpaWQQmtEpQ/AAAAAAAAAAI/AAAAAAAAc5k/V4TZA_YKVSI/s64/photo.jpg",
      "userId": "15004601375355093954"
     },
     "user_tz": -480
    },
    "id": "w9oWRLycgsD1",
    "outputId": "2beabb74-b568-4580-cfdd-c15b8b45d59c"
   },
   "outputs": [
    {
     "name": "stdout",
     "output_type": "stream",
     "text": [
      "<title>Erik Durm - Wikipedia, the free encyclopedia</title>\n",
      "Erik Durm - Wikipedia, the free encyclopedia\n"
     ]
    }
   ],
   "source": [
    "# We specify the encoding of the file here because Windows\n",
    "# has problems reading some characters in it.\n",
    "\n",
    "from urllib.request import urlopen\n",
    "response = urlopen('http://bit.ly/scraping-html') \n",
    "soup = response.read()\n",
    "\n",
    "# with open(\"http://bit.ly/scraping-html\", \"r\", encoding=\"utf-8\") as wiki_file:\n",
    "soup = bs4.BeautifulSoup(soup)\n",
    "        \n",
    "title = soup.find('title')   #finds the FIRST <title> tag \n",
    "\n",
    "print(title)\n",
    "print(title.text)\n"
   ]
  },
  {
   "cell_type": "markdown",
   "metadata": {
    "colab_type": "text",
    "id": "0JW36oNmgsD5"
   },
   "source": [
    "Beautiful Soup converts HTML tags into its own `Tag` objects.`Tag` objects have many useful attributes."
   ]
  },
  {
   "cell_type": "code",
   "execution_count": 6,
   "metadata": {
    "colab": {
     "base_uri": "https://localhost:8080/",
     "height": 69
    },
    "colab_type": "code",
    "executionInfo": {
     "elapsed": 630,
     "status": "ok",
     "timestamp": 1557650290349,
     "user": {
      "displayName": "Desmond Sek",
      "photoUrl": "https://lh3.googleusercontent.com/-kpaWQQmtEpQ/AAAAAAAAAAI/AAAAAAAAc5k/V4TZA_YKVSI/s64/photo.jpg",
      "userId": "15004601375355093954"
     },
     "user_tz": -480
    },
    "id": "NqDdL4I_gsD6",
    "outputId": "b6d4560e-fa14-497d-a043-5a3b8841e470"
   },
   "outputs": [
    {
     "name": "stdout",
     "output_type": "stream",
     "text": [
      "<class 'bs4.element.Tag'>\n",
      "Erik Durm - Wikipedia, the free encyclopedia\n",
      "title\n"
     ]
    }
   ],
   "source": [
    "print(type(title))\n",
    "print(title.text) # The text gives you the visible part of the tag\n",
    "print(title.name) # The type of tag"
   ]
  },
  {
   "cell_type": "markdown",
   "metadata": {
    "colab_type": "text",
    "id": "fvY_XP_5gsD-"
   },
   "source": [
    "If a tag has any html attributes, they can be accessed in a very \"pythonic\" way. That is, they are organized as a dictionary!\n",
    "\n"
   ]
  },
  {
   "cell_type": "code",
   "execution_count": 7,
   "metadata": {
    "colab": {
     "base_uri": "https://localhost:8080/",
     "height": 69
    },
    "colab_type": "code",
    "executionInfo": {
     "elapsed": 638,
     "status": "ok",
     "timestamp": 1557650303092,
     "user": {
      "displayName": "Desmond Sek",
      "photoUrl": "https://lh3.googleusercontent.com/-kpaWQQmtEpQ/AAAAAAAAAAI/AAAAAAAAc5k/V4TZA_YKVSI/s64/photo.jpg",
      "userId": "15004601375355093954"
     },
     "user_tz": -480
    },
    "id": "KNhcGdzsgsD_",
    "outputId": "921370cb-79bc-43e4-b29d-e6b384613148"
   },
   "outputs": [
    {
     "name": "stdout",
     "output_type": "stream",
     "text": [
      "{'id': 'firstHeading', 'class': ['firstHeading'], 'lang': 'en'}\n",
      "['firstHeading']\n",
      "firstHeading\n"
     ]
    }
   ],
   "source": [
    "h1 = soup.find(\"h1\")\n",
    "\n",
    "print(h1.attrs)\n",
    "print(h1[\"class\"])\n",
    "print(h1[\"id\"])"
   ]
  },
  {
   "cell_type": "markdown",
   "metadata": {
    "colab_type": "text",
    "id": "DKiihFQLgsEE"
   },
   "source": [
    "Instead of searching for `Tags` one by one, we can also retrieve them all at once.  As an example, let's find all level 2 headers. To this end, we use the `find_all` method."
   ]
  },
  {
   "cell_type": "code",
   "execution_count": 5,
   "metadata": {
    "colab": {
     "base_uri": "https://localhost:8080/",
     "height": 54
    },
    "colab_type": "code",
    "executionInfo": {
     "elapsed": 1738,
     "status": "ok",
     "timestamp": 1557650451392,
     "user": {
      "displayName": "Desmond Sek",
      "photoUrl": "https://lh3.googleusercontent.com/-kpaWQQmtEpQ/AAAAAAAAAAI/AAAAAAAAc5k/V4TZA_YKVSI/s64/photo.jpg",
      "userId": "15004601375355093954"
     },
     "user_tz": -480
    },
    "id": "ati3bbtTgsEF",
    "outputId": "5e8a0828-8481-40e2-b6fa-94c4e8a65a47"
   },
   "outputs": [
    {
     "name": "stdout",
     "output_type": "stream",
     "text": [
      "[<h2>Contents</h2>, <h2><span class=\"mw-headline\" id=\"Club_career\">Club career</span><span class=\"mw-editsection\"><span class=\"mw-editsection-bracket\">[</span><a href=\"/w/index.php?title=Erik_Durm&amp;action=edit&amp;section=1\" title=\"Edit section: Club career\">edit</a><span class=\"mw-editsection-bracket\">]</span></span></h2>, <h2><span class=\"mw-headline\" id=\"International_career\">International career</span><span class=\"mw-editsection\"><span class=\"mw-editsection-bracket\">[</span><a href=\"/w/index.php?title=Erik_Durm&amp;action=edit&amp;section=4\" title=\"Edit section: International career\">edit</a><span class=\"mw-editsection-bracket\">]</span></span></h2>, <h2><span class=\"mw-headline\" id=\"Career_statistics\">Career statistics</span><span class=\"mw-editsection\"><span class=\"mw-editsection-bracket\">[</span><a href=\"/w/index.php?title=Erik_Durm&amp;action=edit&amp;section=7\" title=\"Edit section: Career statistics\">edit</a><span class=\"mw-editsection-bracket\">]</span></span></h2>, <h2><span class=\"mw-headline\" id=\"Honours\">Honours</span><span class=\"mw-editsection\"><span class=\"mw-editsection-bracket\">[</span><a href=\"/w/index.php?title=Erik_Durm&amp;action=edit&amp;section=10\" title=\"Edit section: Honours\">edit</a><span class=\"mw-editsection-bracket\">]</span></span></h2>, <h2><span class=\"mw-headline\" id=\"References\">References</span><span class=\"mw-editsection\"><span class=\"mw-editsection-bracket\">[</span><a href=\"/w/index.php?title=Erik_Durm&amp;action=edit&amp;section=13\" title=\"Edit section: References\">edit</a><span class=\"mw-editsection-bracket\">]</span></span></h2>, <h2><span class=\"mw-headline\" id=\"External_links\">External links</span><span class=\"mw-editsection\"><span class=\"mw-editsection-bracket\">[</span><a href=\"/w/index.php?title=Erik_Durm&amp;action=edit&amp;section=14\" title=\"Edit section: External links\">edit</a><span class=\"mw-editsection-bracket\">]</span></span></h2>, <h2>Navigation menu</h2>]\n"
     ]
    }
   ],
   "source": [
    "headers = soup.find_all('h2')\n",
    "\n",
    "print(headers)"
   ]
  },
  {
   "cell_type": "code",
   "execution_count": 6,
   "metadata": {
    "colab": {
     "base_uri": "https://localhost:8080/",
     "height": 34
    },
    "colab_type": "code",
    "executionInfo": {
     "elapsed": 839,
     "status": "ok",
     "timestamp": 1557650464098,
     "user": {
      "displayName": "Desmond Sek",
      "photoUrl": "https://lh3.googleusercontent.com/-kpaWQQmtEpQ/AAAAAAAAAAI/AAAAAAAAc5k/V4TZA_YKVSI/s64/photo.jpg",
      "userId": "15004601375355093954"
     },
     "user_tz": -480
    },
    "id": "0cNVCve1M8LI",
    "outputId": "e3a5352e-5d71-4191-ff77-37348e327156"
   },
   "outputs": [
    {
     "data": {
      "text/plain": [
       "bs4.element.ResultSet"
      ]
     },
     "execution_count": 6,
     "metadata": {},
     "output_type": "execute_result"
    }
   ],
   "source": [
    "type(headers)"
   ]
  },
  {
   "cell_type": "markdown",
   "metadata": {
    "colab_type": "text",
    "id": "hrPn-4eVgsEJ"
   },
   "source": [
    "Too much information!  In order to get the only the information that we need, we must restrict to the desired attribute."
   ]
  },
  {
   "cell_type": "code",
   "execution_count": 7,
   "metadata": {
    "colab": {
     "base_uri": "https://localhost:8080/",
     "height": 157
    },
    "colab_type": "code",
    "executionInfo": {
     "elapsed": 922,
     "status": "ok",
     "timestamp": 1557650501151,
     "user": {
      "displayName": "Desmond Sek",
      "photoUrl": "https://lh3.googleusercontent.com/-kpaWQQmtEpQ/AAAAAAAAAAI/AAAAAAAAc5k/V4TZA_YKVSI/s64/photo.jpg",
      "userId": "15004601375355093954"
     },
     "user_tz": -480
    },
    "id": "E695_VZNgsEK",
    "outputId": "c1f615d5-0f5e-4ddb-b9a3-5d42551da2c5"
   },
   "outputs": [
    {
     "name": "stdout",
     "output_type": "stream",
     "text": [
      "Contents\n",
      "Club career[edit]\n",
      "International career[edit]\n",
      "Career statistics[edit]\n",
      "Honours[edit]\n",
      "References[edit]\n",
      "External links[edit]\n",
      "Navigation menu\n"
     ]
    }
   ],
   "source": [
    "for header in headers:\n",
    "    print(header.text)"
   ]
  },
  {
   "cell_type": "markdown",
   "metadata": {
    "colab_type": "text",
    "id": "IarTKKTNgsEO"
   },
   "source": [
    "Another `Tag` that that is useful and that demonstrate some of the other useful attributes is the one for webpages that our page points to:"
   ]
  },
  {
   "cell_type": "code",
   "execution_count": 15,
   "metadata": {
    "colab": {
     "base_uri": "https://localhost:8080/",
     "height": 12602
    },
    "colab_type": "code",
    "executionInfo": {
     "elapsed": 613,
     "status": "ok",
     "timestamp": 1557651099880,
     "user": {
      "displayName": "Desmond Sek",
      "photoUrl": "https://lh3.googleusercontent.com/-kpaWQQmtEpQ/AAAAAAAAAAI/AAAAAAAAc5k/V4TZA_YKVSI/s64/photo.jpg",
      "userId": "15004601375355093954"
     },
     "user_tz": -480
    },
    "id": "IjBaE_qvgsEQ",
    "outputId": "28c0d6e7-43da-4190-9f73-3c6ae2504c65",
    "scrolled": true
   },
   "outputs": [
    {
     "name": "stdout",
     "output_type": "stream",
     "text": [
      "----- \n",
      "None\n",
      "----- navigation\n",
      "#mw-head\n",
      "----- search\n",
      "#p-search\n",
      "----- \n",
      "/wiki/File:Erik_Durm_IMG_1748.jpg\n",
      "----- BVB\n",
      "/wiki/Borussia_Dortmund\n",
      "----- [1]\n",
      "#cite_note-1\n",
      "----- Pirmasens\n",
      "/wiki/Pirmasens\n",
      "----- Left back\n",
      "/wiki/Defender_(association_football)#Full-back\n",
      "----- Right back\n",
      "/wiki/Defender_(association_football)#Full-back\n",
      "----- Borussia Dortmund\n",
      "/wiki/Borussia_Dortmund\n",
      "----- 1. FC Saarbrücken\n",
      "/wiki/1._FC_Saarbr%C3%BCcken\n",
      "----- 1. FSV Mainz 05\n",
      "/wiki/1._FSV_Mainz_05\n",
      "----- 1. FSV Mainz 05 II\n",
      "/wiki/1._FSV_Mainz_05_II\n",
      "----- Borussia Dortmund II\n",
      "/wiki/Borussia_Dortmund_II\n",
      "----- Borussia Dortmund\n",
      "/wiki/Borussia_Dortmund\n",
      "----- Germany U19\n",
      "/wiki/Germany_national_youth_football_team\n",
      "----- Germany U20\n",
      "/wiki/Germany_national_youth_football_team\n",
      "----- Germany U21\n",
      "/wiki/Germany_national_under-21_football_team\n",
      "----- Germany\n",
      "/wiki/Germany_national_football_team\n",
      "----- Borussia Dortmund\n",
      "/wiki/Borussia_Dortmund\n",
      "----- DFL-Supercup\n",
      "/wiki/DFL-Supercup\n",
      "----- 2013\n",
      "/wiki/2013_DFL-Supercup\n",
      "----- DFL-Supercup\n",
      "/wiki/DFL-Supercup\n",
      "----- 2014\n",
      "/wiki/2014_DFL-Supercup\n",
      "----- FIFA World Cup\n",
      "/wiki/FIFA_World_Cup\n",
      "----- 2014\n",
      "/wiki/2014_FIFA_World_Cup\n",
      "----- footballer\n",
      "/wiki/Association_football\n",
      "----- left back\n",
      "/wiki/Defender_(association_football)#Full-back\n",
      "----- Borussia Dortmund\n",
      "/wiki/Borussia_Dortmund\n",
      "----- Germany national team\n",
      "/wiki/Germany_national_football_team\n",
      "----- World Cup\n",
      "/wiki/2014_FIFA_World_Cup\n",
      "----- 1 Club career\n",
      "#Club_career\n",
      "----- 1.1 Early career\n",
      "#Early_career\n",
      "----- 1.2 Borussia Dortmund\n",
      "#Borussia_Dortmund\n",
      "----- 2 International career\n",
      "#International_career\n",
      "----- 2.1 Youth\n",
      "#Youth\n",
      "----- 2.2 Senior\n",
      "#Senior\n",
      "----- 3 Career statistics\n",
      "#Career_statistics\n",
      "----- 3.1 Club\n",
      "#Club\n",
      "----- 3.2 International\n",
      "#International\n",
      "----- 4 Honours\n",
      "#Honours\n",
      "----- 4.1 Club\n",
      "#Club_2\n",
      "----- 4.2 International\n",
      "#International_2\n",
      "----- 5 References\n",
      "#References\n",
      "----- 6 External links\n",
      "#External_links\n",
      "----- edit\n",
      "/w/index.php?title=Erik_Durm&action=edit&section=1\n",
      "----- edit\n",
      "/w/index.php?title=Erik_Durm&action=edit&section=2\n",
      "----- 1. FC Saarbrücken\n",
      "/wiki/1._FC_Saarbr%C3%BCcken\n",
      "----- [2]\n",
      "#cite_note-pfaelzischer-merkur.de-2\n",
      "----- 1. FSV Mainz 05\n",
      "/wiki/1._FSV_Mainz_05\n",
      "----- SV Elversberg\n",
      "/wiki/SV_Elversberg\n",
      "----- Regionalliga\n",
      "/wiki/Regionalliga\n",
      "----- [3]\n",
      "#cite_note-3\n",
      "----- 1. FSV Mainz 05 II\n",
      "/wiki/1._FSV_Mainz_05_II\n",
      "----- Eintracht Frankfurt\n",
      "/wiki/Eintracht_Frankfurt\n",
      "----- [4]\n",
      "#cite_note-4\n",
      "----- [5]\n",
      "#cite_note-5\n",
      "----- [6]\n",
      "#cite_note-6\n",
      "----- edit\n",
      "/w/index.php?title=Erik_Durm&action=edit&section=3\n",
      "----- Borussia Dortmund\n",
      "/wiki/Borussia_Dortmund\n",
      "----- Borussia Dortmund II\n",
      "/wiki/Borussia_Dortmund_II\n",
      "----- third league\n",
      "/wiki/3._Liga\n",
      "----- [7]\n",
      "#cite_note-7\n",
      "----- [8]\n",
      "#cite_note-8\n",
      "----- [9]\n",
      "#cite_note-9\n",
      "----- 2012–13 3. Liga season\n",
      "/wiki/2012%E2%80%9313_3._Liga\n",
      "----- VfL Osnabrück\n",
      "/wiki/VfL_Osnabr%C3%BCck\n",
      "----- [10]\n",
      "#cite_note-10\n",
      "----- VfB Stuttgart\n",
      "/wiki/VfB_Stuttgart\n",
      "----- Robert Lewandowski\n",
      "/wiki/Robert_Lewandowski\n",
      "----- FC Augsburg\n",
      "/wiki/FC_Augsburg\n",
      "----- [11]\n",
      "#cite_note-11\n",
      "----- [12]\n",
      "#cite_note-12\n",
      "----- 2014 DFL-Supercup\n",
      "/wiki/2014_DFL-Supercup\n",
      "----- [13]\n",
      "#cite_note-2014_German_Super_Cup-13\n",
      "----- Bundesliga\n",
      "/wiki/Bundesliga\n",
      "----- Hertha Berlin\n",
      "/wiki/Hertha_Berlin\n",
      "----- [14]\n",
      "#cite_note-14\n",
      "----- edit\n",
      "/w/index.php?title=Erik_Durm&action=edit&section=4\n",
      "----- \n",
      "/wiki/File:Erik_Durm20140714_0009_(cropped).jpg\n",
      "----- \n",
      "/wiki/File:Erik_Durm20140714_0009_(cropped).jpg\n",
      "----- 2014 World Cup final\n",
      "/wiki/2014_FIFA_World_Cup_Final\n",
      "----- edit\n",
      "/w/index.php?title=Erik_Durm&action=edit&section=5\n",
      "----- German under-19 team\n",
      "/wiki/Germany_national_under-19_football_team\n",
      "----- German under-20 team\n",
      "/wiki/Germany_national_under-20_football_team\n",
      "----- Hungary\n",
      "/wiki/Hungary_national_football_team\n",
      "----- [15]\n",
      "#cite_note-15\n",
      "----- Poland\n",
      "/wiki/Poland_national_under-20_football_team\n",
      "----- [16]\n",
      "#cite_note-16\n",
      "----- German under-21 team\n",
      "/wiki/Germany_national_under-21_football_team\n",
      "----- France\n",
      "/wiki/France_national_under-21_football_team\n",
      "----- edit\n",
      "/w/index.php?title=Erik_Durm&action=edit&section=6\n",
      "----- German senior team\n",
      "/wiki/Germany_national_football_team\n",
      "----- Cameroon\n",
      "/wiki/Cameroon_national_football_team\n",
      "----- Stadion im Borussia-Park\n",
      "/wiki/Stadion_im_Borussia-Park\n",
      "----- Mönchengladbach\n",
      "/wiki/M%C3%B6nchengladbach\n",
      "----- Benedikt Höwedes\n",
      "/wiki/Benedikt_H%C3%B6wedes\n",
      "----- [17]\n",
      "#cite_note-17\n",
      "----- 2014 FIFA World Cup\n",
      "/wiki/2014_FIFA_World_Cup\n",
      "----- [18]\n",
      "#cite_note-18\n",
      "----- edit\n",
      "/w/index.php?title=Erik_Durm&action=edit&section=7\n",
      "----- edit\n",
      "/w/index.php?title=Erik_Durm&action=edit&section=8\n",
      "----- DFB-Pokal\n",
      "/wiki/DFB-Pokal\n",
      "----- Europe\n",
      "/wiki/UEFA\n",
      "----- 1\n",
      "#endnote_a\n",
      "----- Mainz 05 II\n",
      "/wiki/1._FSV_Mainz_05_II\n",
      "----- Regionalliga West\n",
      "/wiki/Regionalliga_West\n",
      "----- 2010–11\n",
      "/wiki/2010%E2%80%9311_Regionalliga\n",
      "----- [19]\n",
      "#cite_note-19\n",
      "----- 2011–12\n",
      "/wiki/2011%E2%80%9312_Regionalliga\n",
      "----- [20]\n",
      "#cite_note-20\n",
      "----- Borussia Dortmund II\n",
      "/wiki/Borussia_Dortmund_II\n",
      "----- 3. Liga\n",
      "/wiki/3._Liga\n",
      "----- 2012–13\n",
      "/wiki/2012%E2%80%9313_Borussia_Dortmund_II_season\n",
      "----- [21]\n",
      "#cite_note-21\n",
      "----- 2013–14\n",
      "/w/index.php?title=2013%E2%80%9314_Borussia_Dortmund_II_season&action=edit&redlink=1\n",
      "----- [22]\n",
      "#cite_note-Spieler-Statistik_2013.2F14-22\n",
      "----- Borussia Dortmund\n",
      "/wiki/Borussia_Dortmund\n",
      "----- Bundesliga\n",
      "/wiki/Bundesliga\n",
      "----- 2013–14\n",
      "/wiki/2013%E2%80%9314_Borussia_Dortmund_season\n",
      "----- [22]\n",
      "#cite_note-Spieler-Statistik_2013.2F14-22\n",
      "----- 2014–15\n",
      "/wiki/2014%E2%80%9315_Borussia_Dortmund_season\n",
      "----- [13]\n",
      "#cite_note-2014_German_Super_Cup-13\n",
      "----- [23]\n",
      "#cite_note-2014.E2.80.9315_season-23\n",
      "----- 2014–15\n",
      "/w/index.php?title=2014%E2%80%9315_Borussia_Dortmund_II_season&action=edit&redlink=1\n",
      "----- [23]\n",
      "#cite_note-2014.E2.80.9315_season-23\n",
      "----- ^\n",
      "#ref_a\n",
      "----- DFL-Supercup\n",
      "/wiki/DFL-Supercup\n",
      "----- edit\n",
      "/w/index.php?title=Erik_Durm&action=edit&section=9\n",
      "----- [24]\n",
      "#cite_note-eufoot-24\n",
      "----- Germany national team\n",
      "/wiki/Germany_national_football_team\n",
      "----- edit\n",
      "/w/index.php?title=Erik_Durm&action=edit&section=10\n",
      "----- edit\n",
      "/w/index.php?title=Erik_Durm&action=edit&section=11\n",
      "----- DFL-Supercup\n",
      "/wiki/DFL-Supercup\n",
      "----- 2013\n",
      "/wiki/2013_DFL-Supercup\n",
      "----- 2014\n",
      "/wiki/2014_DFL-Supercup\n",
      "----- edit\n",
      "/w/index.php?title=Erik_Durm&action=edit&section=12\n",
      "----- FIFA World Cup\n",
      "/wiki/FIFA_World_Cup\n",
      "----- 2014\n",
      "/wiki/2014_FIFA_World_Cup\n",
      "----- edit\n",
      "/w/index.php?title=Erik_Durm&action=edit&section=13\n",
      "----- ^\n",
      "#cite_ref-1\n",
      "----- \"2014 FIFA World Cup Brazil: List of Players\"\n",
      "http://www.fifadata.com/document/fwc/2014/pdf/fwc_2014_squadlists.pdf\n",
      "----- ^\n",
      "#cite_ref-pfaelzischer-merkur.de_2-0\n",
      "----- \"Der Traum von der Karriere als Fußballprofi\" [The dream of a career as a professional football player]\n",
      "http://www.pfaelzischer-merkur.de/sport/art27519,3173713#.UAgfO5HluSp\n",
      "----- ^\n",
      "#cite_ref-3\n",
      "----- \"1. FSV Mainz 05 II 1:1 SV 07 Elversberg\"\n",
      "http://www.weltfussball.de/spielbericht/regionalliga-west-2010-2011-1-fsv-mainz-05-ii-sv-07-elversberg/\n",
      "----- ^\n",
      "#cite_ref-4\n",
      "----- \"Durm: Torjäger begeistert Mainz\" [Durm: Scorer inspires Mainz]\n",
      "http://www.kicker.de/news/fussball/regionalliga/startseite/558883/artikel_durm_torjaeger-begeistert-mainz.html\n",
      "----- ^\n",
      "#cite_ref-5\n",
      "----- \"Mainz 05: Profiangebot für Erik Durm - Regionalliga-Stürmer zögert noch\" [Mainz 05: Professional contract offer for Erik Durm - Regionalliga forward hesitates]\n",
      "http://www.allgemeine-zeitung.de/sport/top-clubs/mainz-05/11546703.htm\n",
      "----- ^\n",
      "#cite_ref-6\n",
      "----- \"Rätselraten um Zukunft von Erik Durm: Von Mainz 05 zum BVB - oder auch nicht\" [Guesswork about the future of Erik Durm: from 1. FSV Mainz 05 to Borussia Dortmund - or not]\n",
      "http://www.allgemeine-zeitung.de/sport/top-clubs/mainz-05/11604757.htm\n",
      "----- ^\n",
      "#cite_ref-7\n",
      "----- \"Erik Durm wechselt von Mainz 05 zum BVB\" [Erik Durm moves from Mainz 05 to BVB]\n",
      "http://www.bvb.de/?%EF%8C%ECZ%1B%E7%F4%9C%5Ej%E7%82%9A\n",
      "----- ^\n",
      "#cite_ref-8\n",
      "----- \"Erik Durm auf dem Weg zum BVB\" [Erik Durm on the way to BVB]\n",
      "http://www.ruhrnachrichten.de/sport/bvb/amateure/art2108,1542360\n",
      "----- ^\n",
      "#cite_ref-9\n",
      "----- \"Borussia Dortmund: U20-Nationalspieler Erik Durm kommt vom FSV Mainz 05\" [Borussia Dortmund: U20 player Erik Durm comes from FSV Mainz 05]\n",
      "http://www.goal.com/de/news/968/transfermarkt/2012/02/01/2879875/borussia-dortmund-u20-nationalspieler-erik-durm-kommt-vom\n",
      "----- ^\n",
      "#cite_ref-10\n",
      "----- \"VfL durch Manno und Zoller mit Auftaktsdreier\" [VfL due to Manno and Zoller with opening three points]\n",
      "http://www.kicker.de/news/fussball/3liga/spieltag/3-liga/2012-13/1/1443746/spielbericht_vfl-osnabrueck-45_borussia-dortmund-ii-1291.html\n",
      "----- ^\n",
      "#cite_ref-11\n",
      "----- \"Dreierpack: Aubameyangs toller Einstand\" [Triple Pack: Aubameyang's great debut]\n",
      "http://www.kicker.de/news/fussball/bundesliga/spieltag/1-bundesliga/2013-14/1/1894565/spielbericht_fc-augsburg-91_borussia-dortmund-17.html\n",
      "----- ^\n",
      "#cite_ref-12\n",
      "----- \"Augsburg : Dortmund 0-4 (0-1)\"\n",
      "http://www.bundesliga.com/en/stats/matchday/?matchid=145159&season=2013&liga=51&round=1\n",
      "----- a\n",
      "#cite_ref-2014_German_Super_Cup_13-0\n",
      "----- b\n",
      "#cite_ref-2014_German_Super_Cup_13-1\n",
      "----- \"Aubameyang köpft BVB zum Supercup-Sieg\"\n",
      "http://www.kicker.de/d-supercup-fb-1/2014/1/2396815/spielbericht_bayern-muenchen-14_borussia-dortmund-17.html\n",
      "----- ^\n",
      "#cite_ref-14\n",
      "----- \"Borussia Dortmund 2-0 Hertha Berlin: Subotic and Durm give hosts vital win\"\n",
      "http://www.goal.com/en/match/borussia-dortmund-vs-hertha-bsc/1713945/report\n",
      "----- ^\n",
      "#cite_ref-15\n",
      "----- \"Deutschland - Ungarn\" [Germany - Hungary]\n",
      "http://www.dfb.de/index.php?id=504292&spielid=156&action=schema&teama=Deutschland&teamb=Ungarn\n",
      "----- ^\n",
      "#cite_ref-16\n",
      "----- \"Polen - Deutschland\" [Poland - Germany]\n",
      "http://www.dfb.de/index.php?id=504295&spielid=86&action=schema&teama=Polen&teamb=Deutschland\n",
      "----- ^\n",
      "#cite_ref-17\n",
      "----- \"Germany 2-2 Cameroon: Hosts pegged back by Choupo-Moting in thrilling climax\"\n",
      "http://www.goal.com/en/match/germany-vs-cameroon/1630380/report\n",
      "----- ^\n",
      "#cite_ref-18\n",
      "----- \"Germany World Cup 2014 squad\"\n",
      "http://www.telegraph.co.uk/sport/football/teams/germany/10810439/Germany-World-Cup-2014-squad.html\n",
      "----- ^\n",
      "#cite_ref-19\n",
      "----- \"Durm, Erik\"\n",
      "http://www.kicker.de/news/fussball/bundesliga/vereine/2010-11/67220/vereinsspieler_durm-erik.html\n",
      "----- ^\n",
      "#cite_ref-20\n",
      "----- \"Durm, Erik\"\n",
      "http://www.kicker.de/news/fussball/bundesliga/vereine/2011-12/67220/vereinsspieler_durm-erik.html\n",
      "----- ^\n",
      "#cite_ref-21\n",
      "----- \"Durm, Erik\"\n",
      "http://www.kicker.de/news/fussball/bundesliga/vereine/2012-13/67220/vereinsspieler_durm-erik.html\n",
      "----- a\n",
      "#cite_ref-Spieler-Statistik_2013.2F14_22-0\n",
      "----- b\n",
      "#cite_ref-Spieler-Statistik_2013.2F14_22-1\n",
      "----- \"Durm, Erik\"\n",
      "http://www.kicker.de/news/fussball/bundesliga/vereine/2013-14/67220/vereinsspieler_durm-erik.html\n",
      "----- a\n",
      "#cite_ref-2014.E2.80.9315_season_23-0\n",
      "----- b\n",
      "#cite_ref-2014.E2.80.9315_season_23-1\n",
      "----- \"Durm, Erik\"\n",
      "http://www.kicker.de/news/fussball/bundesliga/vereine/1-bundesliga/2014-15/borussia-dortmund-17/67220/spieler_durm-erik.html\n",
      "----- ^\n",
      "#cite_ref-eufoot_24-0\n",
      "----- \"Erik Durm\"\n",
      "http://eu-football.info/_player.php?id=28691\n",
      "----- edit\n",
      "/w/index.php?title=Erik_Durm&action=edit&section=14\n",
      "----- Erik Durm\n",
      "http://www.fussballdaten.de/spieler/durmerik/\n",
      "----- fussballdaten.de\n",
      "/wiki/Fussballdaten.de\n",
      "----- Profile\n",
      "http://www.kicker.de/news/fussball/bundesliga/vereine/1-bundesliga/2014-15/borussia-dortmund-17/67220/spieler_durm-erik.html\n",
      "----- v\n",
      "/wiki/Template:Borussia_Dortmund_squad\n",
      "----- t\n",
      "/wiki/Template_talk:Borussia_Dortmund_squad\n",
      "----- e\n",
      "//en.wikipedia.org/w/index.php?title=Template:Borussia_Dortmund_squad&action=edit\n",
      "----- Borussia Dortmund\n",
      "/wiki/Borussia_Dortmund\n",
      "----- Weidenfeller\n",
      "/wiki/Roman_Weidenfeller\n",
      "----- Subotić\n",
      "/wiki/Neven_Suboti%C4%87\n",
      "----- Bender\n",
      "/wiki/Sven_Bender\n",
      "----- Hofmann\n",
      "/wiki/Jonas_Hofmann\n",
      "----- Gündoğan\n",
      "/wiki/%C4%B0lkay_G%C3%BCndo%C4%9Fan\n",
      "----- Mkhitaryan\n",
      "/wiki/Henrikh_Mkhitaryan\n",
      "----- Reus\n",
      "/wiki/Marco_Reus\n",
      "----- Leitner\n",
      "/wiki/Moritz_Leitner\n",
      "----- Hummels\n",
      "/wiki/Mats_Hummels\n",
      "----- c\n",
      "/wiki/Captain_(association_football)\n",
      "----- Błaszczykowski\n",
      "/wiki/Jakub_B%C5%82aszczykowski\n",
      "----- Aubameyang\n",
      "/wiki/Pierre-Emerick_Aubameyang\n",
      "----- Şahin\n",
      "/wiki/Nuri_%C5%9Eahin\n",
      "----- Großkreutz\n",
      "/wiki/Kevin_Gro%C3%9Fkreutz\n",
      "----- Ramos\n",
      "/wiki/Adri%C3%A1n_Ramos\n",
      "----- Kirch\n",
      "/wiki/Oliver_Kirch\n",
      "----- Kagawa\n",
      "/wiki/Shinji_Kagawa\n",
      "----- Papastathopoulos\n",
      "/wiki/Sokratis_Papastathopoulos\n",
      "----- Piszczek\n",
      "/wiki/%C5%81ukasz_Piszczek\n",
      "----- Castro\n",
      "/wiki/Gonzalo_Castro\n",
      "----- Ginter\n",
      "/wiki/Matthias_Ginter\n",
      "----- Schmelzer\n",
      "/wiki/Marcel_Schmelzer\n",
      "----- Weigl\n",
      "/wiki/Julian_Weigl\n",
      "----- Bürki\n",
      "/wiki/Roman_B%C3%BCrki\n",
      "----- Bonmann\n",
      "/wiki/Hendrik_Bonmann\n",
      "----- Dudziak\n",
      "/wiki/Jeremy_Dudziak\n",
      "----- Kampl\n",
      "/wiki/Kevin_Kampl\n",
      "----- Tuchel\n",
      "/wiki/Thomas_Tuchel\n",
      "----- v\n",
      "/wiki/Template:Germany_squad_2014_FIFA_World_Cup\n",
      "----- t\n",
      "/wiki/Template_talk:Germany_squad_2014_FIFA_World_Cup\n",
      "----- e\n",
      "//en.wikipedia.org/w/index.php?title=Template:Germany_squad_2014_FIFA_World_Cup&action=edit\n",
      "----- Germany squad\n",
      "/wiki/Germany_national_football_team\n",
      "----- 2014 FIFA World Cup Winners (4th title)\n",
      "/wiki/2014_FIFA_World_Cup_Final\n",
      "----- Neuer\n",
      "/wiki/Manuel_Neuer\n",
      "----- Großkreutz\n",
      "/wiki/Kevin_Gro%C3%9Fkreutz\n",
      "----- Ginter\n",
      "/wiki/Matthias_Ginter\n",
      "----- Höwedes\n",
      "/wiki/Benedikt_H%C3%B6wedes\n",
      "----- Hummels\n",
      "/wiki/Mats_Hummels\n",
      "----- Khedira\n",
      "/wiki/Sami_Khedira\n",
      "----- Schweinsteiger\n",
      "/wiki/Bastian_Schweinsteiger\n",
      "----- Özil\n",
      "/wiki/Mesut_%C3%96zil\n",
      "----- Schürrle\n",
      "/wiki/Andr%C3%A9_Sch%C3%BCrrle\n",
      "----- Podolski\n",
      "/wiki/Lukas_Podolski\n",
      "----- Klose\n",
      "/wiki/Miroslav_Klose\n",
      "----- Zieler\n",
      "/wiki/Ron-Robert_Zieler\n",
      "----- Müller\n",
      "/wiki/Thomas_M%C3%BCller\n",
      "----- Draxler\n",
      "/wiki/Julian_Draxler\n",
      "----- Lahm\n",
      "/wiki/Philipp_Lahm\n",
      "----- c\n",
      "/wiki/Captain_(association_football)\n",
      "----- Mertesacker\n",
      "/wiki/Per_Mertesacker\n",
      "----- Kroos\n",
      "/wiki/Toni_Kroos\n",
      "----- Götze\n",
      "/wiki/Mario_G%C3%B6tze\n",
      "----- Boateng\n",
      "/wiki/J%C3%A9r%C3%B4me_Boateng\n",
      "----- Mustafi\n",
      "/wiki/Shkodran_Mustafi\n",
      "----- Weidenfeller\n",
      "/wiki/Roman_Weidenfeller\n",
      "----- Kramer\n",
      "/wiki/Christoph_Kramer\n",
      "----- Löw\n",
      "/wiki/Joachim_L%C3%B6w\n",
      "----- \n",
      "/wiki/Germany\n",
      "----- https://en.wikipedia.org/w/index.php?title=Erik_Durm&oldid=667540954\n",
      "https://en.wikipedia.org/w/index.php?title=Erik_Durm&oldid=667540954\n",
      "----- Categories\n",
      "/wiki/Help:Category\n",
      "----- 1992 births\n",
      "/wiki/Category:1992_births\n",
      "----- Living people\n",
      "/wiki/Category:Living_people\n",
      "----- People from Pirmasens\n",
      "/wiki/Category:People_from_Pirmasens\n",
      "----- German footballers\n",
      "/wiki/Category:German_footballers\n",
      "----- 1. FSV Mainz 05 II players\n",
      "/wiki/Category:1._FSV_Mainz_05_II_players\n",
      "----- Borussia Dortmund II players\n",
      "/wiki/Category:Borussia_Dortmund_II_players\n",
      "----- Borussia Dortmund players\n",
      "/wiki/Category:Borussia_Dortmund_players\n",
      "----- 3. Liga players\n",
      "/wiki/Category:3._Liga_players\n",
      "----- Bundesliga players\n",
      "/wiki/Category:Bundesliga_players\n",
      "----- Germany under-21 international footballers\n",
      "/wiki/Category:Germany_under-21_international_footballers\n",
      "----- Germany youth international footballers\n",
      "/wiki/Category:Germany_youth_international_footballers\n",
      "----- Germany international footballers\n",
      "/wiki/Category:Germany_international_footballers\n",
      "----- 2014 FIFA World Cup players\n",
      "/wiki/Category:2014_FIFA_World_Cup_players\n",
      "----- FIFA World Cup-winning players\n",
      "/wiki/Category:FIFA_World_Cup-winning_players\n",
      "----- CS1 German-language sources (de)\n",
      "/wiki/Category:CS1_German-language_sources_(de)\n",
      "----- Use dmy dates from August 2013\n",
      "/wiki/Category:Use_dmy_dates_from_August_2013\n",
      "----- Articles using Template:Medal with Winner\n",
      "/wiki/Category:Articles_using_Template:Medal_with_Winner\n",
      "----- Articles with German-language external links\n",
      "/wiki/Category:Articles_with_German-language_external_links\n",
      "----- Create account\n",
      "/w/index.php?title=Special:UserLogin&returnto=Erik+Durm&type=signup\n",
      "----- Log in\n",
      "/w/index.php?title=Special:UserLogin&returnto=Erik+Durm\n",
      "----- Article\n",
      "/wiki/Erik_Durm\n",
      "----- Talk\n",
      "/wiki/Talk:Erik_Durm\n",
      "----- \n",
      "#\n",
      "----- Read\n",
      "/wiki/Erik_Durm\n",
      "----- Edit\n",
      "/w/index.php?title=Erik_Durm&action=edit\n",
      "----- View history\n",
      "/w/index.php?title=Erik_Durm&action=history\n",
      "----- \n",
      "#\n",
      "----- \n",
      "/wiki/Main_Page\n",
      "----- Main page\n",
      "/wiki/Main_Page\n",
      "----- Contents\n",
      "/wiki/Portal:Contents\n",
      "----- Featured content\n",
      "/wiki/Portal:Featured_content\n",
      "----- Current events\n",
      "/wiki/Portal:Current_events\n",
      "----- Random article\n",
      "/wiki/Special:Random\n",
      "----- Donate to Wikipedia\n",
      "https://donate.wikimedia.org/wiki/Special:FundraiserRedirector?utm_source=donate&utm_medium=sidebar&utm_campaign=C13_en.wikipedia.org&uselang=en\n",
      "----- Wikipedia store\n",
      "//shop.wikimedia.org\n",
      "----- Help\n",
      "/wiki/Help:Contents\n",
      "----- About Wikipedia\n",
      "/wiki/Wikipedia:About\n",
      "----- Community portal\n",
      "/wiki/Wikipedia:Community_portal\n",
      "----- Recent changes\n",
      "/wiki/Special:RecentChanges\n",
      "----- Contact page\n",
      "//en.wikipedia.org/wiki/Wikipedia:Contact_us\n",
      "----- What links here\n",
      "/wiki/Special:WhatLinksHere/Erik_Durm\n",
      "----- Related changes\n",
      "/wiki/Special:RecentChangesLinked/Erik_Durm\n",
      "----- Upload file\n",
      "/wiki/Wikipedia:File_Upload_Wizard\n",
      "----- Special pages\n",
      "/wiki/Special:SpecialPages\n",
      "----- Permanent link\n",
      "/w/index.php?title=Erik_Durm&oldid=667540954\n",
      "----- Page information\n",
      "/w/index.php?title=Erik_Durm&action=info\n",
      "----- Wikidata item\n",
      "//www.wikidata.org/wiki/Q823064\n",
      "----- Cite this page\n",
      "/w/index.php?title=Special:CiteThisPage&page=Erik_Durm&id=667540954\n",
      "----- Create a book\n",
      "/w/index.php?title=Special:Book&bookcmd=book_creator&referer=Erik+Durm\n",
      "----- Download as PDF\n",
      "/w/index.php?title=Special:Book&bookcmd=render_article&arttitle=Erik+Durm&oldid=667540954&writer=rdf2latex\n",
      "----- Printable version\n",
      "/w/index.php?title=Erik_Durm&printable=yes\n",
      "----- العربية\n",
      "//ar.wikipedia.org/wiki/%D8%A5%D9%8A%D8%B1%D9%8A%D9%83_%D8%AF%D9%88%D8%B1%D9%85\n",
      "----- Беларуская\n",
      "//be.wikipedia.org/wiki/%D0%AD%D1%80%D1%8B%D0%BA_%D0%94%D1%83%D1%80%D0%BC\n",
      "----- Беларуская (тарашкевіца)‎\n",
      "//be-x-old.wikipedia.org/wiki/%D0%AD%D1%80%D1%8B%D0%BA_%D0%94%D1%83%D1%80%D0%BC\n",
      "----- Català\n",
      "//ca.wikipedia.org/wiki/Erik_Durm\n",
      "----- Čeština\n",
      "//cs.wikipedia.org/wiki/Erik_Durm\n",
      "----- Dansk\n",
      "//da.wikipedia.org/wiki/Erik_Durm\n",
      "----- Deutsch\n",
      "//de.wikipedia.org/wiki/Erik_Durm\n",
      "----- Español\n",
      "//es.wikipedia.org/wiki/Erik_Durm\n",
      "----- Esperanto\n",
      "//eo.wikipedia.org/wiki/Erik_Durm\n",
      "----- فارسی\n",
      "//fa.wikipedia.org/wiki/%D8%A7%D8%B1%DB%8C%DA%A9_%D8%AF%D9%88%D8%B1%D9%85\n",
      "----- Français\n",
      "//fr.wikipedia.org/wiki/Erik_Durm\n",
      "----- 한국어\n",
      "//ko.wikipedia.org/wiki/%EC%97%90%EB%A6%AC%ED%81%AC_%EB%91%90%EB%A6%84\n",
      "----- Հայերեն\n",
      "//hy.wikipedia.org/wiki/%D4%B7%D6%80%D5%AB%D5%AF_%D4%B4%D5%B8%D6%82%D6%80%D5%B4\n",
      "----- Bahasa Indonesia\n",
      "//id.wikipedia.org/wiki/Erik_Durm\n",
      "----- Italiano\n",
      "//it.wikipedia.org/wiki/Erik_Durm\n",
      "----- עברית\n",
      "//he.wikipedia.org/wiki/%D7%90%D7%A8%D7%99%D7%A7_%D7%93%D7%95%D7%A8%D7%9D\n",
      "----- Қазақша\n",
      "//kk.wikipedia.org/wiki/%D0%AD%D1%80%D0%B8%D0%BA_%D0%94%D1%83%D1%80%D0%BC\n",
      "----- Magyar\n",
      "//hu.wikipedia.org/wiki/Erik_Durm\n",
      "----- Bahasa Melayu\n",
      "//ms.wikipedia.org/wiki/Erik_Durm\n",
      "----- Монгол\n",
      "//mn.wikipedia.org/wiki/%D0%AD%D1%80%D0%B8%D0%BA_%D0%94%D1%83%D1%80%D0%BC\n",
      "----- Nederlands\n",
      "//nl.wikipedia.org/wiki/Erik_Durm\n",
      "----- 日本語\n",
      "//ja.wikipedia.org/wiki/%E3%82%A8%E3%83%AA%E3%83%83%E3%82%AF%E3%83%BB%E3%83%89%E3%82%A5%E3%83%AB%E3%83%A0\n",
      "----- Norsk bokmål\n",
      "//no.wikipedia.org/wiki/Erik_Durm\n",
      "----- Norsk nynorsk\n",
      "//nn.wikipedia.org/wiki/Erik_Durm\n",
      "----- Polski\n",
      "//pl.wikipedia.org/wiki/Erik_Durm\n",
      "----- Português\n",
      "//pt.wikipedia.org/wiki/Erik_Durm\n",
      "----- Русский\n",
      "//ru.wikipedia.org/wiki/%D0%94%D1%83%D1%80%D0%BC,_%D0%AD%D1%80%D0%B8%D0%BA\n",
      "----- Simple English\n",
      "//simple.wikipedia.org/wiki/Erik_Durm\n",
      "----- Suomi\n",
      "//fi.wikipedia.org/wiki/Erik_Durm\n",
      "----- Svenska\n",
      "//sv.wikipedia.org/wiki/Erik_Durm\n",
      "----- ไทย\n",
      "//th.wikipedia.org/wiki/%E0%B9%80%E0%B8%AD%E0%B8%A3%E0%B8%B4%E0%B8%84_%E0%B8%94%E0%B8%B9%E0%B8%A3%E0%B9%8C%E0%B8%A1\n",
      "----- Türkçe\n",
      "//tr.wikipedia.org/wiki/Erik_Durm\n",
      "----- Українська\n",
      "//uk.wikipedia.org/wiki/%D0%95%D1%80%D1%96%D0%BA_%D0%94%D1%83%D1%80%D0%BC\n",
      "----- 中文\n",
      "//zh.wikipedia.org/wiki/%E5%9F%83%E9%87%8C%E5%85%8B%C2%B7%E6%9D%9C%E5%B0%94%E5%A7%86\n",
      "----- \n",
      "#\n",
      "----- Edit links\n",
      "//www.wikidata.org/wiki/Q823064#sitelinks-wikipedia\n",
      "----- Creative Commons Attribution-ShareAlike License\n",
      "//en.wikipedia.org/wiki/Wikipedia:Text_of_Creative_Commons_Attribution-ShareAlike_3.0_Unported_License\n",
      "----- \n",
      "//creativecommons.org/licenses/by-sa/3.0/\n",
      "----- Terms of Use\n",
      "//wikimediafoundation.org/wiki/Terms_of_Use\n",
      "----- Privacy Policy\n",
      "//wikimediafoundation.org/wiki/Privacy_policy\n",
      "----- Wikimedia Foundation, Inc.\n",
      "//www.wikimediafoundation.org/\n",
      "----- Privacy policy\n",
      "//wikimediafoundation.org/wiki/Privacy_policy\n",
      "----- About Wikipedia\n",
      "/wiki/Wikipedia:About\n",
      "----- Disclaimers\n",
      "/wiki/Wikipedia:General_disclaimer\n",
      "----- Contact Wikipedia\n",
      "//en.wikipedia.org/wiki/Wikipedia:Contact_us\n",
      "----- Developers\n",
      "https://www.mediawiki.org/wiki/Special:MyLanguage/How_to_contribute\n",
      "----- Mobile view\n",
      "//en.m.wikipedia.org/w/index.php?title=Erik_Durm&mobileaction=toggle_view_mobile\n",
      "----- \n",
      "//wikimediafoundation.org/\n",
      "----- \n",
      "//www.mediawiki.org/\n"
     ]
    }
   ],
   "source": [
    "links = soup.find_all('a')\n",
    "\n",
    "for link in links:  # Showing just the first 10 links for brevity\n",
    "    # href represents the target of the link\n",
    "    # Where the link actually goes to!\n",
    "    print('-----', link.text)\n",
    "    print(link.get('href'))  "
   ]
  },
  {
   "cell_type": "markdown",
   "metadata": {
    "colab_type": "text",
    "id": "zAcoukhPgsEW"
   },
   "source": [
    "### Searching using attribute information\n",
    "\n",
    "Some `Tag` elements have attributes associated with them. These includes `id`, `class_`, `href`.  Our search can restrict results to attributes with a specific value or to results where the attribute type is included.\n",
    "\n",
    "Note that we must use `class_` instead of `class` to avoid conflicts with Python's built-in keyword. \n",
    "\n"
   ]
  },
  {
   "cell_type": "code",
   "execution_count": 12,
   "metadata": {
    "colab": {
     "base_uri": "https://localhost:8080/",
     "height": 52
    },
    "colab_type": "code",
    "executionInfo": {
     "elapsed": 785,
     "status": "ok",
     "timestamp": 1557650728374,
     "user": {
      "displayName": "Desmond Sek",
      "photoUrl": "https://lh3.googleusercontent.com/-kpaWQQmtEpQ/AAAAAAAAAAI/AAAAAAAAc5k/V4TZA_YKVSI/s64/photo.jpg",
      "userId": "15004601375355093954"
     },
     "user_tz": -480
    },
    "id": "ltwHulxKgsEX",
    "outputId": "7e8e9493-dc87-4cc3-995c-6b9186e73f7b"
   },
   "outputs": [
    {
     "name": "stdout",
     "output_type": "stream",
     "text": [
      "<span class=\"mw-headline\" id=\"Early_career\">Early career</span>\n",
      "Early career\n"
     ]
    }
   ],
   "source": [
    "# Retrieve the element with the attribute \"id\" equal to \"Early_career\"\n",
    "tag = soup.find(id=\"Early_career\")\n",
    "print(tag)\n",
    "print(tag.text)"
   ]
  },
  {
   "cell_type": "code",
   "execution_count": 13,
   "metadata": {
    "colab": {
     "base_uri": "https://localhost:8080/",
     "height": 34
    },
    "colab_type": "code",
    "executionInfo": {
     "elapsed": 647,
     "status": "ok",
     "timestamp": 1557650787459,
     "user": {
      "displayName": "Desmond Sek",
      "photoUrl": "https://lh3.googleusercontent.com/-kpaWQQmtEpQ/AAAAAAAAAAI/AAAAAAAAc5k/V4TZA_YKVSI/s64/photo.jpg",
      "userId": "15004601375355093954"
     },
     "user_tz": -480
    },
    "id": "h_6FelV-gsEd",
    "outputId": "a6254050-8eab-4b16-f3e9-6817eaaff347"
   },
   "outputs": [
    {
     "name": "stdout",
     "output_type": "stream",
     "text": [
      "373\n"
     ]
    }
   ],
   "source": [
    "# Retrieve all elements with an href attribute\n",
    "all_links = soup.find_all(href=True)\n",
    "print(len(all_links))"
   ]
  },
  {
   "cell_type": "code",
   "execution_count": 14,
   "metadata": {
    "colab": {
     "base_uri": "https://localhost:8080/",
     "height": 212
    },
    "colab_type": "code",
    "executionInfo": {
     "elapsed": 813,
     "status": "ok",
     "timestamp": 1557650826481,
     "user": {
      "displayName": "Desmond Sek",
      "photoUrl": "https://lh3.googleusercontent.com/-kpaWQQmtEpQ/AAAAAAAAAAI/AAAAAAAAc5k/V4TZA_YKVSI/s64/photo.jpg",
      "userId": "15004601375355093954"
     },
     "user_tz": -480
    },
    "id": "yYKCamkDgsEh",
    "outputId": "1068c642-89ea-4894-c72d-7d8e1b09f0b6",
    "scrolled": false
   },
   "outputs": [
    {
     "data": {
      "text/plain": [
       "[<sup class=\"reference\" id=\"cite_ref-6\"><a href=\"#cite_note-6\"><span>[</span>6<span>]</span></a></sup>,\n",
       " <sup class=\"reference\" id=\"cite_ref-7\"><a href=\"#cite_note-7\"><span>[</span>7<span>]</span></a></sup>,\n",
       " <sup class=\"reference\" id=\"cite_ref-8\"><a href=\"#cite_note-8\"><span>[</span>8<span>]</span></a></sup>,\n",
       " <sup class=\"reference\" id=\"cite_ref-9\"><a href=\"#cite_note-9\"><span>[</span>9<span>]</span></a></sup>,\n",
       " <sup class=\"reference\" id=\"cite_ref-10\"><a href=\"#cite_note-10\"><span>[</span>10<span>]</span></a></sup>,\n",
       " <sup class=\"reference\" id=\"cite_ref-11\"><a href=\"#cite_note-11\"><span>[</span>11<span>]</span></a></sup>,\n",
       " <sup class=\"reference\" id=\"cite_ref-12\"><a href=\"#cite_note-12\"><span>[</span>12<span>]</span></a></sup>,\n",
       " <sup class=\"reference\" id=\"cite_ref-2014_German_Super_Cup_13-0\"><a href=\"#cite_note-2014_German_Super_Cup-13\"><span>[</span>13<span>]</span></a></sup>,\n",
       " <sup class=\"reference\" id=\"cite_ref-14\"><a href=\"#cite_note-14\"><span>[</span>14<span>]</span></a></sup>,\n",
       " <sup class=\"reference\" id=\"cite_ref-15\"><a href=\"#cite_note-15\"><span>[</span>15<span>]</span></a></sup>]"
      ]
     },
     "execution_count": 14,
     "metadata": {
      "tags": []
     },
     "output_type": "execute_result"
    }
   ],
   "source": [
    "# Retrieve inline citations -- they are <sup> elements with the class \"reference\"\n",
    "soup.find_all(\"sup\", class_=\"reference\")[5:15]"
   ]
  },
  {
   "cell_type": "code",
   "execution_count": 14,
   "metadata": {
    "colab": {
     "base_uri": "https://localhost:8080/",
     "height": 262
    },
    "colab_type": "code",
    "executionInfo": {
     "elapsed": 2677,
     "status": "ok",
     "timestamp": 1557638225068,
     "user": {
      "displayName": "Desmond Sek",
      "photoUrl": "https://lh3.googleusercontent.com/-kpaWQQmtEpQ/AAAAAAAAAAI/AAAAAAAAc5k/V4TZA_YKVSI/s64/photo.jpg",
      "userId": "15004601375355093954"
     },
     "user_tz": -480
    },
    "id": "bHIIQXTHgsEk",
    "outputId": "59695340-711e-40c4-f840-29abe8627595"
   },
   "outputs": [
    {
     "data": {
      "text/plain": [
       "[<span class=\"mw-headline\" id=\"Club_career\">Club career</span>,\n",
       " <span class=\"mw-headline\" id=\"Early_career\">Early career</span>,\n",
       " <span class=\"mw-headline\" id=\"Borussia_Dortmund\">Borussia Dortmund</span>,\n",
       " <span class=\"mw-headline\" id=\"International_career\">International career</span>,\n",
       " <span class=\"mw-headline\" id=\"Youth\">Youth</span>,\n",
       " <span class=\"mw-headline\" id=\"Senior\">Senior</span>,\n",
       " <span class=\"mw-headline\" id=\"Career_statistics\">Career statistics</span>,\n",
       " <span class=\"mw-headline\" id=\"Club\">Club</span>,\n",
       " <span class=\"mw-headline\" id=\"International\">International</span>,\n",
       " <span class=\"mw-headline\" id=\"Honours\">Honours</span>,\n",
       " <span class=\"mw-headline\" id=\"Club_2\">Club</span>,\n",
       " <span class=\"mw-headline\" id=\"International_2\">International</span>,\n",
       " <span class=\"mw-headline\" id=\"References\">References</span>,\n",
       " <span class=\"mw-headline\" id=\"External_links\">External links</span>]"
      ]
     },
     "execution_count": 14,
     "metadata": {
      "tags": []
     },
     "output_type": "execute_result"
    }
   ],
   "source": [
    "# Retrieve all tags with class=mw-headline and an id attribute (regardless of value)\n",
    "soup.find_all(attrs={\"class\": \"mw-headline\", \"id\": True})"
   ]
  },
  {
   "cell_type": "markdown",
   "metadata": {
    "colab_type": "text",
    "id": "7XoUKdFBgsEz"
   },
   "source": [
    "### Navigating the HTML tree with BeautifulSoup\n",
    "\n",
    "\n",
    "Besides being able to search elements anywhere on the whole html tree, beautiful soup also allows you to navigate the tree in any direction.\n",
    "\n",
    "Let's try to get at the first paragraph (`<p>`) in the `Club career` section starting from the section's title tag.\n",
    "\n",
    "Here's the relevant HTML snippet:\n",
    "\n",
    "```html\n",
    "    <h2>\n",
    "      <span class=\"mw-headline\" id=\"Club_career\">Club career</span>\n",
    "      <span class=\"mw-editsection\">\n",
    "        <span class=\"mw-editsection-bracket\">[</span>\n",
    "        <a href=\"/w/index.php?title=Erik_Durm&amp;action=edit&amp;section=1\" title=\"Edit section: Club career\">edit</a>\n",
    "        <span class=\"mw-editsection-bracket\">]</span>\n",
    "      </span>\n",
    "    </h2>\n",
    "    <h3>\n",
    "      <span class=\"mw-headline\" id=\"Early_career\">Early career</span>\n",
    "      <span class=\"mw-editsection\">\n",
    "        <span class=\"mw-editsection-bracket\">[</span>\n",
    "        <a href=\"/w/index.php?title=Erik_Durm&amp;action=edit&amp;section=2\" title=\"Edit section: Early career\">edit</a>\n",
    "        <span class=\"mw-editsection-bracket\">]</span>\n",
    "      </span>\n",
    "    </h3>\n",
    "    <p>Durm began his club career in 1998 at the academy of SG Rieschweiler....</p>\n",
    "```\n",
    "\n",
    "We can see that that section of text is *under* the \"Club career\" title: "
   ]
  },
  {
   "cell_type": "code",
   "execution_count": 16,
   "metadata": {
    "colab": {
     "base_uri": "https://localhost:8080/",
     "height": 69
    },
    "colab_type": "code",
    "executionInfo": {
     "elapsed": 735,
     "status": "ok",
     "timestamp": 1557651566143,
     "user": {
      "displayName": "Desmond Sek",
      "photoUrl": "https://lh3.googleusercontent.com/-kpaWQQmtEpQ/AAAAAAAAAAI/AAAAAAAAc5k/V4TZA_YKVSI/s64/photo.jpg",
      "userId": "15004601375355093954"
     },
     "user_tz": -480
    },
    "id": "BDH3STDggsE0",
    "outputId": "ab09a57d-1b7b-41a3-e064-cfb2bb31a133"
   },
   "outputs": [
    {
     "name": "stdout",
     "output_type": "stream",
     "text": [
      "<span class=\"mw-headline\" id=\"Club_career\">Club career</span>\n",
      "Club career\n"
     ]
    },
    {
     "data": {
      "text/plain": [
       "['Club career']"
      ]
     },
     "execution_count": 16,
     "metadata": {
      "tags": []
     },
     "output_type": "execute_result"
    }
   ],
   "source": [
    "section_headline = soup.find(id=\"Club_career\")\n",
    "print(section_headline)\n",
    "print(section_headline.text)\n",
    "section_headline.contents"
   ]
  },
  {
   "cell_type": "markdown",
   "metadata": {
    "colab_type": "text",
    "id": "umuVRRbwgsE8"
   },
   "source": [
    "The `contents` attribute lets us access everything that is inside a given tag. In this case we find only the visible text of the tag.\n",
    "\n",
    "Looking at the webpage snippet, we see that the tag `<p>` is at the same level as the tags `<h2>` and `<h3>`.  Hence, we need to navigate up one level (to the `<h2>` tag), then navigate to its second sibling (first `<h3>` then `<p>`)."
   ]
  },
  {
   "cell_type": "code",
   "execution_count": 18,
   "metadata": {
    "colab": {
     "base_uri": "https://localhost:8080/",
     "height": 89
    },
    "colab_type": "code",
    "executionInfo": {
     "elapsed": 836,
     "status": "ok",
     "timestamp": 1557651635168,
     "user": {
      "displayName": "Desmond Sek",
      "photoUrl": "https://lh3.googleusercontent.com/-kpaWQQmtEpQ/AAAAAAAAAAI/AAAAAAAAc5k/V4TZA_YKVSI/s64/photo.jpg",
      "userId": "15004601375355093954"
     },
     "user_tz": -480
    },
    "id": "Dh3tnp6WgsFA",
    "outputId": "45ecfc4f-d647-426b-9073-8fe758a738c6"
   },
   "outputs": [
    {
     "name": "stdout",
     "output_type": "stream",
     "text": [
      "True\n",
      "\n",
      "[<span class=\"mw-headline\" id=\"Club_career\">Club career</span>, <span class=\"mw-editsection\"><span class=\"mw-editsection-bracket\">[</span><a href=\"/w/index.php?title=Erik_Durm&amp;action=edit&amp;section=1\" title=\"Edit section: Club career\">edit</a><span class=\"mw-editsection-bracket\">]</span></span>]\n"
     ]
    }
   ],
   "source": [
    "parent_h2 = section_headline.parent  # Up one level\n",
    "print( parent_h2.name == \"h2\" )      # Is it the <h2> tag?\n",
    "print()\n",
    "print(parent_h2.contents)            "
   ]
  },
  {
   "cell_type": "code",
   "execution_count": 19,
   "metadata": {
    "colab": {
     "base_uri": "https://localhost:8080/",
     "height": 34
    },
    "colab_type": "code",
    "executionInfo": {
     "elapsed": 630,
     "status": "ok",
     "timestamp": 1557651745511,
     "user": {
      "displayName": "Desmond Sek",
      "photoUrl": "https://lh3.googleusercontent.com/-kpaWQQmtEpQ/AAAAAAAAAAI/AAAAAAAAc5k/V4TZA_YKVSI/s64/photo.jpg",
      "userId": "15004601375355093954"
     },
     "user_tz": -480
    },
    "id": "v8T4P0nvgsFF",
    "outputId": "674820c7-fcf1-4b9c-ff45-baa5dda1062a"
   },
   "outputs": [
    {
     "name": "stdout",
     "output_type": "stream",
     "text": [
      "None\n"
     ]
    }
   ],
   "source": [
    "one_step = parent_h2.next_sibling\n",
    "print(one_step.name)"
   ]
  },
  {
   "cell_type": "code",
   "execution_count": 20,
   "metadata": {
    "colab": {
     "base_uri": "https://localhost:8080/",
     "height": 34
    },
    "colab_type": "code",
    "executionInfo": {
     "elapsed": 701,
     "status": "ok",
     "timestamp": 1557651756218,
     "user": {
      "displayName": "Desmond Sek",
      "photoUrl": "https://lh3.googleusercontent.com/-kpaWQQmtEpQ/AAAAAAAAAAI/AAAAAAAAc5k/V4TZA_YKVSI/s64/photo.jpg",
      "userId": "15004601375355093954"
     },
     "user_tz": -480
    },
    "id": "LlRaTzF-gsFK",
    "outputId": "94e99d85-bbae-4052-adb8-84a503fc8cb8"
   },
   "outputs": [
    {
     "name": "stdout",
     "output_type": "stream",
     "text": [
      "h3\n"
     ]
    }
   ],
   "source": [
    "two_steps = one_step.next_sibling\n",
    "print(two_steps.name)"
   ]
  },
  {
   "cell_type": "markdown",
   "metadata": {
    "colab_type": "text",
    "id": "0Qkbw9VGgsFT"
   },
   "source": [
    "We are only at the `<h3>` tag even though we moved past two siblings.  The reason is that some of the siblings in the soup are not actual HTML elements. Some could simply be empty lines."
   ]
  },
  {
   "cell_type": "code",
   "execution_count": 19,
   "metadata": {
    "colab": {
     "base_uri": "https://localhost:8080/",
     "height": 34
    },
    "colab_type": "code",
    "executionInfo": {
     "elapsed": 2638,
     "status": "ok",
     "timestamp": 1557638225081,
     "user": {
      "displayName": "Desmond Sek",
      "photoUrl": "https://lh3.googleusercontent.com/-kpaWQQmtEpQ/AAAAAAAAAAI/AAAAAAAAc5k/V4TZA_YKVSI/s64/photo.jpg",
      "userId": "15004601375355093954"
     },
     "user_tz": -480
    },
    "id": "Sv3Jl11-gsFV",
    "outputId": "78cfed16-82b5-422e-b9d7-8f1c5a3e5a3c"
   },
   "outputs": [
    {
     "name": "stdout",
     "output_type": "stream",
     "text": [
      "None\n"
     ]
    }
   ],
   "source": [
    "three_steps = two_steps.next_sibling\n",
    "print(three_steps.name)"
   ]
  },
  {
   "cell_type": "code",
   "execution_count": 20,
   "metadata": {
    "colab": {
     "base_uri": "https://localhost:8080/",
     "height": 34
    },
    "colab_type": "code",
    "executionInfo": {
     "elapsed": 2624,
     "status": "ok",
     "timestamp": 1557638225083,
     "user": {
      "displayName": "Desmond Sek",
      "photoUrl": "https://lh3.googleusercontent.com/-kpaWQQmtEpQ/AAAAAAAAAAI/AAAAAAAAc5k/V4TZA_YKVSI/s64/photo.jpg",
      "userId": "15004601375355093954"
     },
     "user_tz": -480
    },
    "id": "_1pwSypugsFa",
    "outputId": "c33c354a-538c-47b5-c158-f89de6d74515"
   },
   "outputs": [
    {
     "name": "stdout",
     "output_type": "stream",
     "text": [
      "p\n"
     ]
    }
   ],
   "source": [
    "four_steps = three_steps.next_sibling\n",
    "print(four_steps.name)"
   ]
  },
  {
   "cell_type": "code",
   "execution_count": 21,
   "metadata": {
    "colab": {
     "base_uri": "https://localhost:8080/",
     "height": 54
    },
    "colab_type": "code",
    "executionInfo": {
     "elapsed": 2611,
     "status": "ok",
     "timestamp": 1557638225085,
     "user": {
      "displayName": "Desmond Sek",
      "photoUrl": "https://lh3.googleusercontent.com/-kpaWQQmtEpQ/AAAAAAAAAAI/AAAAAAAAc5k/V4TZA_YKVSI/s64/photo.jpg",
      "userId": "15004601375355093954"
     },
     "user_tz": -480
    },
    "id": "IpLi60hngsFd",
    "outputId": "c99d7164-65b8-48a4-f70c-3225c3aa163f"
   },
   "outputs": [
    {
     "name": "stdout",
     "output_type": "stream",
     "text": [
      "['Durm began his club career in 1998 at the academy of SG Rieschweiler, before joining the academy of ', <a href=\"/wiki/1._FC_Saarbr%C3%BCcken\" title=\"1. FC Saarbrücken\">1. FC Saarbrücken</a>, ' in 2008 where he became youth league top scorer of the 2009–2010 season with 13 goals.', <sup class=\"reference\" id=\"cite_ref-pfaelzischer-merkur.de_2-0\"><a href=\"#cite_note-pfaelzischer-merkur.de-2\"><span>[</span>2<span>]</span></a></sup>, ' In July 2010, Durm was enrolled at the academy of ', <a href=\"/wiki/1._FSV_Mainz_05\" title=\"1. FSV Mainz 05\">1. FSV Mainz 05</a>, ' and won the 2010–11 Youth Federation Cup in Germany and Durm debuted and played his only game of the 2010–11 season for the second team of 1. FSV Mainz 05 on 4 December 2010 against ', <a href=\"/wiki/SV_Elversberg\" title=\"SV Elversberg\">SV Elversberg</a>, ' in the German ', <a href=\"/wiki/Regionalliga\" title=\"Regionalliga\">Regionalliga</a>, '.', <sup class=\"reference\" id=\"cite_ref-3\"><a href=\"#cite_note-3\"><span>[</span>3<span>]</span></a></sup>]\n"
     ]
    }
   ],
   "source": [
    "print(four_steps.contents)"
   ]
  },
  {
   "cell_type": "markdown",
   "metadata": {
    "colab_type": "text",
    "id": "zfyotPtMgsFk"
   },
   "source": [
    "Ok. Now we are where we wanted to be. We have the text corresponding to the `<p>` tag.  This is something we must always be mindful about. Web scraping can, and very frequently will be, messy and will involve trial-and-error...\n",
    "\n",
    "We can the contents of our desired element is a list.  Let's obtain the number of elements and check what they contain."
   ]
  },
  {
   "cell_type": "code",
   "execution_count": 22,
   "metadata": {
    "colab": {
     "base_uri": "https://localhost:8080/",
     "height": 69
    },
    "colab_type": "code",
    "executionInfo": {
     "elapsed": 2597,
     "status": "ok",
     "timestamp": 1557638225087,
     "user": {
      "displayName": "Desmond Sek",
      "photoUrl": "https://lh3.googleusercontent.com/-kpaWQQmtEpQ/AAAAAAAAAAI/AAAAAAAAc5k/V4TZA_YKVSI/s64/photo.jpg",
      "userId": "15004601375355093954"
     },
     "user_tz": -480
    },
    "id": "o6MqsKdAgsFm",
    "outputId": "0ee22640-0292-4fc2-a1d7-749206a25722"
   },
   "outputs": [
    {
     "name": "stdout",
     "output_type": "stream",
     "text": [
      "12\n",
      "<a href=\"/wiki/1._FC_Saarbr%C3%BCcken\" title=\"1. FC Saarbrücken\">1. FC Saarbrücken</a>\n",
      "<a href=\"/wiki/1._FSV_Mainz_05\" title=\"1. FSV Mainz 05\">1. FSV Mainz 05</a>\n"
     ]
    }
   ],
   "source": [
    "print(len(four_steps.contents))\n",
    "print(four_steps.contents[1])\n",
    "print(four_steps.contents[5])"
   ]
  },
  {
   "cell_type": "markdown",
   "metadata": {
    "colab_type": "text",
    "id": "PXaDMt26gsFu"
   },
   "source": [
    "In order to find the desired tag, we choose a easily identifiable starting point -- `id` is great because its value must be unique -- and then navigate the HTML tree to the correct parent and transversed siblings until we got to the right one. \n",
    "\n",
    "Clearly, this is not a very elegant solution. If there were hundreds of siblings that would have been very cumbersome. Fortunately, there is an alternative way:"
   ]
  },
  {
   "cell_type": "code",
   "execution_count": 23,
   "metadata": {
    "colab": {
     "base_uri": "https://localhost:8080/",
     "height": 54
    },
    "colab_type": "code",
    "executionInfo": {
     "elapsed": 2588,
     "status": "ok",
     "timestamp": 1557638225088,
     "user": {
      "displayName": "Desmond Sek",
      "photoUrl": "https://lh3.googleusercontent.com/-kpaWQQmtEpQ/AAAAAAAAAAI/AAAAAAAAc5k/V4TZA_YKVSI/s64/photo.jpg",
      "userId": "15004601375355093954"
     },
     "user_tz": -480
    },
    "id": "N6186Bw-gsFv",
    "outputId": "0f597260-089d-4430-fcc4-4fa6d5ad6b08",
    "scrolled": true
   },
   "outputs": [
    {
     "data": {
      "text/plain": [
       "<p>Durm began his club career in 1998 at the academy of SG Rieschweiler, before joining the academy of <a href=\"/wiki/1._FC_Saarbr%C3%BCcken\" title=\"1. FC Saarbrücken\">1. FC Saarbrücken</a> in 2008 where he became youth league top scorer of the 2009–2010 season with 13 goals.<sup class=\"reference\" id=\"cite_ref-pfaelzischer-merkur.de_2-0\"><a href=\"#cite_note-pfaelzischer-merkur.de-2\"><span>[</span>2<span>]</span></a></sup> In July 2010, Durm was enrolled at the academy of <a href=\"/wiki/1._FSV_Mainz_05\" title=\"1. FSV Mainz 05\">1. FSV Mainz 05</a> and won the 2010–11 Youth Federation Cup in Germany and Durm debuted and played his only game of the 2010–11 season for the second team of 1. FSV Mainz 05 on 4 December 2010 against <a href=\"/wiki/SV_Elversberg\" title=\"SV Elversberg\">SV Elversberg</a> in the German <a href=\"/wiki/Regionalliga\" title=\"Regionalliga\">Regionalliga</a>.<sup class=\"reference\" id=\"cite_ref-3\"><a href=\"#cite_note-3\"><span>[</span>3<span>]</span></a></sup></p>"
      ]
     },
     "execution_count": 23,
     "metadata": {
      "tags": []
     },
     "output_type": "execute_result"
    }
   ],
   "source": [
    "parent_h2.find_next_sibling(\"p\")"
   ]
  },
  {
   "cell_type": "code",
   "execution_count": null,
   "metadata": {},
   "outputs": [],
   "source": []
  },
  {
   "cell_type": "markdown",
   "metadata": {},
   "source": [
    "## EXERCISE"
   ]
  },
  {
   "cell_type": "code",
   "execution_count": 8,
   "metadata": {
    "colab": {
     "base_uri": "https://localhost:8080/",
     "height": 184
    },
    "colab_type": "code",
    "executionInfo": {
     "elapsed": 4591,
     "status": "error",
     "timestamp": 1557638227120,
     "user": {
      "displayName": "Desmond Sek",
      "photoUrl": "https://lh3.googleusercontent.com/-kpaWQQmtEpQ/AAAAAAAAAAI/AAAAAAAAc5k/V4TZA_YKVSI/s64/photo.jpg",
      "userId": "15004601375355093954"
     },
     "user_tz": -480
    },
    "id": "SF9WhsDLgsGH",
    "outputId": "2226daad-7f0c-4fc2-d499-57b10ca97723"
   },
   "outputs": [],
   "source": [
    "with open(\"my_hexaco.html\", \"r\", encoding=\"utf-8\") as hexaco_file:\n",
    "        soup = bs4.BeautifulSoup(hexaco_file.read())"
   ]
  },
  {
   "cell_type": "markdown",
   "metadata": {
    "colab_type": "text",
    "id": "ZZ1mrIRFgsGW"
   },
   "source": [
    "1 - Find the `<table>` element, that contains your results."
   ]
  },
  {
   "cell_type": "code",
   "execution_count": 9,
   "metadata": {
    "colab": {},
    "colab_type": "code",
    "id": "lDbcVftsgsGX"
   },
   "outputs": [],
   "source": [
    "table = soup.find() # your search terms inside the `find` method"
   ]
  },
  {
   "cell_type": "markdown",
   "metadata": {
    "colab_type": "text",
    "id": "gjQVvI5QgsGa"
   },
   "source": [
    "2 -  Find all the scale names using the `table` variable from above"
   ]
  },
  {
   "cell_type": "code",
   "execution_count": 10,
   "metadata": {
    "colab": {},
    "colab_type": "code",
    "id": "MqjO8do_gsGb",
    "scrolled": false
   },
   "outputs": [],
   "source": [
    "# Find all table rows, skipping the first two which don't matter\n",
    "for tag in table.find_all(\"tr\")[2:]:\n",
    "    cells = tag.find_all(\"td\")\n",
    "    \n",
    "    # Your code here"
   ]
  },
  {
   "cell_type": "markdown",
   "metadata": {
    "colab_type": "text",
    "id": "nHFLSKpJgsGj"
   },
   "source": [
    "3: Now get both the scale names and your own scores associated with each scale"
   ]
  },
  {
   "cell_type": "code",
   "execution_count": 0,
   "metadata": {
    "colab": {},
    "colab_type": "code",
    "id": "4IF8dp05gsGo"
   },
   "outputs": [],
   "source": [
    "# Find all table rows, skipping the first two which don't matter\n",
    "for tag in table.find_all(\"tr\")[2:]:\n",
    "    cells = tag.find_all(\"td\")\n",
    "\n",
    "    # Your code here"
   ]
  }
 ],
 "metadata": {
  "colab": {
   "collapsed_sections": [
    "7XoUKdFBgsEz"
   ],
   "name": "Day5_2_Web_scraping.ipynb",
   "provenance": [],
   "version": "0.3.2"
  },
  "kernelspec": {
   "display_name": "Python 3",
   "language": "python",
   "name": "python3"
  },
  "language_info": {
   "codemirror_mode": {
    "name": "ipython",
    "version": 3
   },
   "file_extension": ".py",
   "mimetype": "text/x-python",
   "name": "python",
   "nbconvert_exporter": "python",
   "pygments_lexer": "ipython3",
   "version": "3.8.5"
  }
 },
 "nbformat": 4,
 "nbformat_minor": 1
}
