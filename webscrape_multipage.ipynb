{
 "cells": [
  {
   "cell_type": "code",
   "execution_count": 1,
   "metadata": {},
   "outputs": [
    {
     "name": "stdout",
     "output_type": "stream",
     "text": [
      "Requirement already satisfied: beautifulsoup4 in c:\\users\\user\\anaconda3\\lib\\site-packages (4.9.3)Note: you may need to restart the kernel to use updated packages.\n",
      "Requirement already satisfied: soupsieve>1.2; python_version >= \"3.0\" in c:\\users\\user\\anaconda3\\lib\\site-packages (from beautifulsoup4) (2.0.1)\n",
      "\n"
     ]
    }
   ],
   "source": [
    "pip install beautifulsoup4"
   ]
  },
  {
   "cell_type": "code",
   "execution_count": 1,
   "metadata": {},
   "outputs": [
    {
     "name": "stdout",
     "output_type": "stream",
     "text": [
      "                                          Mobile Name        Ratings   Prices\n",
      "0    REDMI Note 9 Pro Max (Interstellar Black, 64 GB)    4.4(34,108)  ₹18,495\n",
      "1          Infinix Smart 4 Plus (Quetzal Cyan, 32 GB)  4.4(1,60,947)   ₹7,999\n",
      "2        Infinix Smart 4 Plus (Midnight Black, 32 GB)  4.4(1,60,947)   ₹7,999\n",
      "3                     realme 7i (Fusion Green, 64 GB)  4.3(2,81,772)  ₹11,999\n",
      "4                    realme 7i (Fusion Green, 128 GB)  4.3(2,81,772)  ₹12,999\n",
      "..                                                ...            ...      ...\n",
      "355                OPPO F19 Pro (Fluid Black, 256 GB)     4.3(3,051)  ₹23,490\n",
      "356                                        Grabo G310     3.6(1,662)     ₹699\n",
      "357                                     BlackZone S16          4(85)   ₹1,029\n",
      "358                                     LAVA 34 Ultra       4.2(174)   ₹1,458\n",
      "359     SAMSUNG Galaxy A51 (Prism Crush Blue, 128 GB)     4.3(3,582)  ₹22,499\n",
      "\n",
      "[360 rows x 3 columns]\n"
     ]
    }
   ],
   "source": [
    "from bs4 import BeautifulSoup\n",
    "import requests\n",
    "from requests import get\n",
    "\n",
    "import pandas as pd \n",
    "import numpy as np\n",
    "\n",
    "from time import sleep\n",
    "from random import randint\n",
    "\n",
    "pages=np.arange(1,10)\n",
    "\n",
    "Mobile_name=[]\n",
    "Ratings=[]\n",
    "Prices=[]\n",
    "\n",
    "for page in pages:\n",
    "    url=\"https://www.flipkart.com/search?q=mobile&page=\" +str(page)\n",
    "    response=requests.get(url)\n",
    "    soup=BeautifulSoup(response.text,'html.parser')\n",
    "    items=soup.find_all('div',class_=\"_4ddWXP\")\n",
    "    sleep(randint(2,10))\n",
    "\n",
    "#print(\"Items divs in page:\",page, \"is\",len(items))\n",
    "\n",
    "    for item in items:\n",
    "        name=item.find('a',class_=\"s1Q9rs\").text\n",
    "        Mobile_name.append(name)\n",
    "        \n",
    "        ratings=item.find('div',class_=\"gUuXy- _2D5lwg\").text\n",
    "        Ratings.append(ratings)\n",
    "        \n",
    "        price=item.find('div',class_=\"_30jeq3\").text\n",
    "        Prices.append(price)\n",
    "#print(Mobile_name,Ratings,Prices)\n",
    "\n",
    "dataFrame=pd.DataFrame(\n",
    "{\n",
    "    \"Mobile Name\": Mobile_name,\n",
    "    \"Ratings\": Ratings,\n",
    "    \"Prices\":Prices\n",
    "})\n",
    "\n",
    "print(dataFrame)\n",
    "#         print(name,ratings,price)\n",
    "\n",
    "dataFrame.to_csv('Flipkart_mobile_data.csv',index=False)\n",
    "\n"
   ]
  },
  {
   "cell_type": "code",
   "execution_count": 2,
   "metadata": {},
   "outputs": [
    {
     "name": "stdout",
     "output_type": "stream",
     "text": [
      "5\n"
     ]
    }
   ],
   "source": [
    "print(1+4)"
   ]
  },
  {
   "cell_type": "code",
   "execution_count": 2,
   "metadata": {},
   "outputs": [
    {
     "data": {
      "text/plain": [
       "'C:\\\\Users\\\\USER\\\\Desktop\\\\DS_python\\\\Canvas files\\\\Module 4'"
      ]
     },
     "execution_count": 2,
     "metadata": {},
     "output_type": "execute_result"
    }
   ],
   "source": [
    "pwd"
   ]
  },
  {
   "cell_type": "code",
   "execution_count": null,
   "metadata": {},
   "outputs": [],
   "source": []
  }
 ],
 "metadata": {
  "kernelspec": {
   "display_name": "Python 3",
   "language": "python",
   "name": "python3"
  },
  "language_info": {
   "codemirror_mode": {
    "name": "ipython",
    "version": 3
   },
   "file_extension": ".py",
   "mimetype": "text/x-python",
   "name": "python",
   "nbconvert_exporter": "python",
   "pygments_lexer": "ipython3",
   "version": "3.8.5"
  }
 },
 "nbformat": 4,
 "nbformat_minor": 4
}
