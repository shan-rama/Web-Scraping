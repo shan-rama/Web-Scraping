{
 "cells": [
  {
   "cell_type": "code",
   "execution_count": null,
   "metadata": {
    "colab": {},
    "colab_type": "code",
    "id": "bpMAWIuxgsDL",
    "scrolled": true
   },
   "outputs": [],
   "source": [
    "# Importing all required libraries\n",
    "\n",
    "import requests\n",
    "import json\n",
    "from IPython.display import HTML\n",
    "import bs4\n",
    "from IPython.display import display, Image"
   ]
  },
  {
   "cell_type": "markdown",
   "metadata": {
    "colab_type": "text",
    "id": "Y7x2U23HgsDQ"
   },
   "source": [
    "# Synopsis\n",
    "\n",
    "In this unit we will cover:\n",
    "\n",
    "* The structure of Web pages\n",
    "* What is HTML/CSS\n",
    "* How to extract information from HTML pages\n",
    "* Techniques for navigating and scraping web pages\n",
    "\n",
    "\n",
    "# Interacting with the Web (Part II)\n",
    "\n",
    "In the previous units, we learned how to retrieve data from Web sources using APIs. But what if the organization hosting the data does not have the forethought or resources to create an API (or if they do not want to share their data)?  Then, we have to **crawl** their website and **scrape** their data.\n",
    "\n",
    "To do this, we will be using our dependable `requests` library.  However, we will need to call upon a few other resources.  In particular, we will need to understand the code in which webpages are written.\n"
   ]
  },
  {
   "cell_type": "markdown",
   "metadata": {
    "colab_type": "text",
    "id": "UvbCrg41gsDR"
   },
   "source": [
    "+++"
   ]
  },
  {
   "cell_type": "markdown",
   "metadata": {
    "colab_type": "text",
    "id": "E8Mp-8n1gsDT"
   },
   "source": [
    "## Detour: A (very brief) intro to HTML\n",
    "\n",
    "HTML is a markup language for describing web documents. It stands for **H**yper **T**ext **M**arkup **L**anguage. HTML, together with CSS (**C**ascading **S**tyle **S**heets for _styling_ web documents) and Javascript (for _animating_ web documents), it is the language that is used to construct web pages.\n",
    "\n",
    "HTML documents are built using a series of HTML _tags_. Each tag describes a different type of content. Web pages are built by putting together different tags.\n",
    "\n",
    "This is the general HTML tag structure:\n",
    "\n",
    "```html\n",
    "<tagname tag_attribute1=\"attribute1value1 attribute1value2\" tag_attribute2=\"attribute2value1\">tag contents</tagname>\n",
    "```\n",
    "* Tags (usually) have both a start (or opening) tag, <tagname> and an end (or closing) tag, </tagname>\n",
    "* Tags can also have attributes which are declared _inside_ the opening tag.\n",
    "* The actual tag _content_ goes inbetween the opening and closing tags."
   ]
  },
  {
   "cell_type": "markdown",
   "metadata": {
    "colab_type": "text",
    "id": "sXd2KBJAgsDV"
   },
   "source": [
    "Tags can be contained (nested) inside other tags, which defines relationships between them:\n",
    "\n",
    "```html\n",
    "<parent>\n",
    "  <brother></brother>\n",
    "  <sister>\n",
    "    <grandson></grandson>\n",
    "  </sister>\n",
    "</parent>\n",
    "```\n",
    "\n",
    "* `<parent>` is the _parent_ tag of `<brother>` and `<sister>`\n",
    "* `<brother>` and `<sister>` are the _children_ or _direct descendant_ tags of `<parent>`\n",
    "* `<brother>`, `<sister>`, and `<grandson>` are the _descendant_ tags of `<parent>`\n",
    "* `<brother>` and `<sister>` are _sibling_ tags"
   ]
  },
  {
   "cell_type": "markdown",
   "metadata": {
    "colab_type": "text",
    "id": "YUMYtkS-gsDW"
   },
   "source": [
    "Here's a very simple web document:\n",
    "\n",
    "```html\n",
    "<!DOCTYPE html>\n",
    "<html>\n",
    "  <head>\n",
    "    <title>Page Title</title> \n",
    "  </head>\n",
    "\n",
    "  <body>\n",
    "    <h1>My First Heading</h1>\n",
    "    <p>My first paragraph.</p>\n",
    "  </body>\n",
    "</html> \n",
    "```\n",
    "\n",
    "Here, `<h1>` and `<p>` are sibling tags, `<body>` is their parent tag, and all three are descendent tags of `<html>`\n",
    "\n",
    "When you access any URL, your browser (Chrome, Firefox, Safari, IE, etc.) is actually reading a document such as this one and using the tags within the document to decide how to render the page for you.\n",
    "\n",
    "Jupyter is able to render a (python) string of HTML code as real HTML in the notebook itself!"
   ]
  },
  {
   "cell_type": "code",
   "execution_count": null,
   "metadata": {
    "colab": {
     "base_uri": "https://localhost:8080/",
     "height": 201
    },
    "colab_type": "code",
    "executionInfo": {
     "elapsed": 2003,
     "status": "error",
     "timestamp": 1557650061974,
     "user": {
      "displayName": "Desmond Sek",
      "photoUrl": "https://lh3.googleusercontent.com/-kpaWQQmtEpQ/AAAAAAAAAAI/AAAAAAAAc5k/V4TZA_YKVSI/s64/photo.jpg",
      "userId": "15004601375355093954"
     },
     "user_tz": -480
    },
    "id": "lvkcE7vMgsDY",
    "outputId": "f8e6f9b4-4738-471a-cc2f-194f37c89eaa"
   },
   "outputs": [],
   "source": [
    "#from IPython.display import HTML\n",
    "\n",
    "first_html = \"\"\"\n",
    "<!DOCTYPE html>\n",
    "<html>\n",
    "  <head>\n",
    "    <title>Page Title</title>\n",
    "  </head>\n",
    "  \n",
    "  <body>\n",
    "    <h1>My First Heading</h1>\n",
    "    <p>My first paragraph.</p>\n",
    "  </body>\n",
    "\n",
    "</html> \n",
    "\"\"\"\n",
    "\n",
    "HTML(first_html)"
   ]
  },
  {
   "cell_type": "markdown",
   "metadata": {
    "colab_type": "text",
    "id": "deG12uQFgsDe"
   },
   "source": [
    "#### Let's look at what the different tags mean:\n",
    "\n",
    "```html\n",
    "<!-- This is how you write a comment in HTML. Comments will not show up in the browser -->\n",
    "\n",
    "<!-- This line simply identifies the document type to be HTML-->\n",
    "<!DOCTYPE html>\n",
    "<!-- Content between <html> and </html> tags define everything about the document-->\n",
    "<html>\n",
    "  <!-- Tags inside the <head> are not rendered but provide general information about the document -->\n",
    "  <head>\n",
    "    <!-- Like the <title> tag which provides a title that appears in the browser's title and tab bars -->\n",
    "    <title>Page Title</title>\n",
    "  </head>\n",
    "  \n",
    "  <!-- Anything inside the <body> tags describes visible page content -->\n",
    "  <body>\n",
    "    <!-- The <h1> defines a header. The number defines the size of the header. -->\n",
    "    <!-- There are 6 levels of headers: <h1> to <h6> -->\n",
    "    <!-- The higher the number, the lower the font used to display it. -->\n",
    "    <h1>My First Heading</h1>\n",
    "    <!-- The <p> represents a paragraph.-->\n",
    "    <p>My first paragraph.</p>\n",
    "  </body>\n",
    "</html>\n",
    "```"
   ]
  },
  {
   "cell_type": "markdown",
   "metadata": {
    "colab_type": "text",
    "id": "YvOBregIgsDg"
   },
   "source": [
    "**Different levels of headers**\n",
    "\n",
    "```html\n",
    "<h1>This is heading 1</h1>\n",
    "<h2>This is heading 2</h2>\n",
    "<h3>This is heading 3</h3>\n",
    "<h4>This is heading 4</h4>\n",
    "<h5>This is heading 5</h5>\n",
    "<h6>This is heading 6</h6> \n",
    "```\n",
    "\n",
    "**Links**\n",
    "```html\n",
    "<a href=\"http://www.website.com\">Click to go to website.com</a>\n",
    "```\n",
    "\n",
    "**Images**\n",
    "```html\n",
    "<!-- Notice that the image tag has no closing tag and no content outside the opening tag -->\n",
    "<img src=\"smiley.gif\">\n",
    "```\n",
    "\n",
    "**Lists**\n",
    "```html\n",
    "<!-- Unordered (bulleted) list -->\n",
    "<ul>\n",
    "  <li>One Element</li>\n",
    "  <li>Another Element</li>\n",
    "</ul>\n",
    "\n",
    "<!-- Ordered (numbered) list -->\n",
    "<ol>\n",
    "  <li>First Ordered Element</li>\n",
    "  <li>Second Ordered Element</li>\n",
    "</ol>\n",
    "```\n",
    "\n",
    "**Tables**\n",
    "```html\n",
    "<table>\n",
    "  <!-- An HTML table is defined as a series of rows (<tr>) -->\n",
    "  <!-- The individual cell (<td>) contents are nested inside rows -->\n",
    "  \n",
    "  <!-- The <tr> tag is optional and is the parent of column headers (<th>) -->\n",
    "  <tr>\n",
    "    <th>First Header</th>\n",
    "    <th>Second Header</th>\n",
    "  </tr>\n",
    "  <tr>\n",
    "    <td>Row 2, Col 1</td>\n",
    "    <td>Row 2, Col 2</td>\n",
    "  </tr>\n",
    "  <tr>\n",
    "    <td>Row 3, Col 1</td>\n",
    "    <td>Row 3, Col 2</td>\n",
    "  </tr>\n",
    "</table>\n",
    "```"
   ]
  },
  {
   "cell_type": "code",
   "execution_count": null,
   "metadata": {
    "colab": {
     "base_uri": "https://localhost:8080/",
     "height": 480,
     "resources": {
      "http://localhost:8080/Data/www/images/smiley.png": {
       "data": "CjwhRE9DVFlQRSBodG1sPgo8aHRtbCBsYW5nPWVuPgogIDxtZXRhIGNoYXJzZXQ9dXRmLTg+CiAgPG1ldGEgbmFtZT12aWV3cG9ydCBjb250ZW50PSJpbml0aWFsLXNjYWxlPTEsIG1pbmltdW0tc2NhbGU9MSwgd2lkdGg9ZGV2aWNlLXdpZHRoIj4KICA8dGl0bGU+RXJyb3IgNDA0IChOb3QgRm91bmQpISExPC90aXRsZT4KICA8c3R5bGU+CiAgICAqe21hcmdpbjowO3BhZGRpbmc6MH1odG1sLGNvZGV7Zm9udDoxNXB4LzIycHggYXJpYWwsc2Fucy1zZXJpZn1odG1se2JhY2tncm91bmQ6I2ZmZjtjb2xvcjojMjIyO3BhZGRpbmc6MTVweH1ib2R5e21hcmdpbjo3JSBhdXRvIDA7bWF4LXdpZHRoOjM5MHB4O21pbi1oZWlnaHQ6MTgwcHg7cGFkZGluZzozMHB4IDAgMTVweH0qID4gYm9keXtiYWNrZ3JvdW5kOnVybCgvL3d3dy5nb29nbGUuY29tL2ltYWdlcy9lcnJvcnMvcm9ib3QucG5nKSAxMDAlIDVweCBuby1yZXBlYXQ7cGFkZGluZy1yaWdodDoyMDVweH1we21hcmdpbjoxMXB4IDAgMjJweDtvdmVyZmxvdzpoaWRkZW59aW5ze2NvbG9yOiM3Nzc7dGV4dC1kZWNvcmF0aW9uOm5vbmV9YSBpbWd7Ym9yZGVyOjB9QG1lZGlhIHNjcmVlbiBhbmQgKG1heC13aWR0aDo3NzJweCl7Ym9keXtiYWNrZ3JvdW5kOm5vbmU7bWFyZ2luLXRvcDowO21heC13aWR0aDpub25lO3BhZGRpbmctcmlnaHQ6MH19I2xvZ297YmFja2dyb3VuZDp1cmwoLy93d3cuZ29vZ2xlLmNvbS9pbWFnZXMvbG9nb3MvZXJyb3JwYWdlL2Vycm9yX2xvZ28tMTUweDU0LnBuZykgbm8tcmVwZWF0O21hcmdpbi1sZWZ0Oi01cHh9QG1lZGlhIG9ubHkgc2NyZWVuIGFuZCAobWluLXJlc29sdXRpb246MTkyZHBpKXsjbG9nb3tiYWNrZ3JvdW5kOnVybCgvL3d3dy5nb29nbGUuY29tL2ltYWdlcy9sb2dvcy9lcnJvcnBhZ2UvZXJyb3JfbG9nby0xNTB4NTQtMngucG5nKSBuby1yZXBlYXQgMCUgMCUvMTAwJSAxMDAlOy1tb3otYm9yZGVyLWltYWdlOnVybCgvL3d3dy5nb29nbGUuY29tL2ltYWdlcy9sb2dvcy9lcnJvcnBhZ2UvZXJyb3JfbG9nby0xNTB4NTQtMngucG5nKSAwfX1AbWVkaWEgb25seSBzY3JlZW4gYW5kICgtd2Via2l0LW1pbi1kZXZpY2UtcGl4ZWwtcmF0aW86Mil7I2xvZ297YmFja2dyb3VuZDp1cmwoLy93d3cuZ29vZ2xlLmNvbS9pbWFnZXMvbG9nb3MvZXJyb3JwYWdlL2Vycm9yX2xvZ28tMTUweDU0LTJ4LnBuZykgbm8tcmVwZWF0Oy13ZWJraXQtYmFja2dyb3VuZC1zaXplOjEwMCUgMTAwJX19I2xvZ297ZGlzcGxheTppbmxpbmUtYmxvY2s7aGVpZ2h0OjU0cHg7d2lkdGg6MTUwcHh9CiAgPC9zdHlsZT4KICA8YSBocmVmPS8vd3d3Lmdvb2dsZS5jb20vPjxzcGFuIGlkPWxvZ28gYXJpYS1sYWJlbD1Hb29nbGU+PC9zcGFuPjwvYT4KICA8cD48Yj40MDQuPC9iPiA8aW5zPlRoYXTigJlzIGFuIGVycm9yLjwvaW5zPgogIDxwPiAgPGlucz5UaGF04oCZcyBhbGwgd2Uga25vdy48L2lucz4K",
       "headers": [
        [
         "content-length",
         "1449"
        ],
        [
         "content-type",
         "text/html; charset=utf-8"
        ]
       ],
       "ok": false,
       "status": 404,
       "status_text": ""
      }
     }
    },
    "colab_type": "code",
    "executionInfo": {
     "elapsed": 1282,
     "status": "ok",
     "timestamp": 1557638223511,
     "user": {
      "displayName": "Desmond Sek",
      "photoUrl": "https://lh3.googleusercontent.com/-kpaWQQmtEpQ/AAAAAAAAAAI/AAAAAAAAc5k/V4TZA_YKVSI/s64/photo.jpg",
      "userId": "15004601375355093954"
     },
     "user_tz": -480
    },
    "id": "aLJ1BCNlgsDi",
    "outputId": "e8e701ad-574d-4667-e281-13ce682e674b"
   },
   "outputs": [],
   "source": [
    "more_tags = \"\"\"\n",
    "<html>\n",
    "<head>\n",
    "  <title>More HTML Tags</title>\n",
    "</head>\n",
    "<body>\n",
    "  <h1>This is heading 1</h1>\n",
    "  <h2>This is heading 2</h2>\n",
    "  <h3>This is heading 3</h3>\n",
    "  <h4>This is heading 4</h4>\n",
    "  <h5>This is heading 5</h5>\n",
    "  <h6>This is heading 6</h6>\n",
    "\n",
    "  <br>\n",
    "  \n",
    "  <a href=\"http://www.website.com\">Click to go to website.com</a>\n",
    "\n",
    "  <p><img src=\"../Data/www/images/smiley.png\" alt=\"smiley face\"></p>\n",
    "\n",
    "  <ul>\n",
    "    <li>One Element</li>\n",
    "    <li>Another Element</li>\n",
    "  </ul>\n",
    "\n",
    "  <ol>\n",
    "    <li>First Ordered Element</li>\n",
    "    <li>Second Ordered Element</li>\n",
    "  </ol>\n",
    "\n",
    "  <table>\n",
    "    <!-- An HTML table is defined as a series of rows (<tr>) -->\n",
    "    <!-- The individual cell (<td>) contents are nested inside rows -->\n",
    "    <tr>\n",
    "      <!-- The <tr> tag defines a column headers -->\n",
    "      <th>First Header</th>\n",
    "      <th>Second Header</th>\n",
    "    </tr>\n",
    "    <tr>\n",
    "      <td>Row 2, Col 1</td>\n",
    "      <td>Row 2, Col 2</td>\n",
    "    </tr>\n",
    "    <tr>\n",
    "    <td>Row 3, Col 1</td>\n",
    "    <td>Row 3, Col 2</td>\n",
    "  </tr>\n",
    "  </table>\n",
    "</body>\n",
    "</html>\n",
    "\"\"\"\n",
    "\n",
    "HTML(more_tags)"
   ]
  },
  {
   "cell_type": "markdown",
   "metadata": {
    "colab_type": "text",
    "id": "dc-ztvWDgsDl"
   },
   "source": [
    "+++"
   ]
  },
  {
   "cell_type": "markdown",
   "metadata": {
    "colab_type": "text",
    "id": "tVJ9XhjWgsDn"
   },
   "source": [
    "If you want to know more about HTML, I recommend the excellent w3schools website: http://www.w3schools.com/html/html_intro.asp"
   ]
  },
  {
   "cell_type": "markdown",
   "metadata": {
    "colab_type": "text",
    "id": "f2GwJs_LgsDo"
   },
   "source": [
    "\n",
    "#### Ok, back to web scraping\n",
    "\n",
    "Now we are all HTML experts. Great! We're almost ready to start parsing and analyzing a scraped web page. There's just one last item of business we need to discuss before we get started."
   ]
  },
  {
   "cell_type": "markdown",
   "metadata": {
    "colab_type": "text",
    "id": "8jg42P5FgsDq"
   },
   "source": [
    "### Viewing a page's source code\n",
    "\n",
    "In order to extract elements of interest from a webpage we need to know where they sit in the webpage's HTML tree.\n",
    "This means that you need to look at a webpage's HTML source code before you can even start scraping it. Not only that but, during your web scraping you will be switching back and forth between the actual scraping (we'll get there really soon, I promise!) and the webpage's source code.\n",
    "\n",
    "How do we view a page's source code then?\n",
    "\n",
    "* To view the **full page** source code:\n",
    "  1. Right-click anywhere on the webpage **that is not a link**\n",
    "  2. Click \"View Page Source\" (<kbd>CTRL</kbd>+<kbd>U</kbd>) in Firefox or Chrome, or \"Show page source\" (<kbd>&#8997;</kbd>+<kbd>&#8984;</kbd>+<kbd>U</kbd>) in Safari.\n",
    "    * In order to view the source code in Safari the Develop menu must be enabled first: Preferences > Advanced > Show Develop menu in menu bar\n",
    "    \n",
    "* To view the source code zoomed-in on **a single element** (and with better formatting!):\n",
    "  1. Right-click any element in the webpage.\n",
    "  2. Click \"Inspect Element\""
   ]
  },
  {
   "cell_type": "markdown",
   "metadata": {
    "colab_type": "text",
    "id": "s_MjAK4qgsDr"
   },
   "source": [
    "##  Beautiful Soup, so rich and green, waiting in a hot tureen!\n",
    "\n",
    "(*The Lobster Quadrille*, Alice in Wonderland)\n",
    "\n",
    "We made it! We are now ready to start scraping web pages. In order to do so we are going to use [`BeautifulSoup`](http://www.crummy.com/software/BeautifulSoup/bs4/doc/), a powerful python package to parse web pages you already scraped. Normally you would use `requests` (to GET the page) and then `BeautifulSoup` to analyse the web page.\n",
    "\n",
    "We will use the wikipedia page for a player from Germany's national football team as an example: https://en.wikipedia.org/wiki/Erik_Durm that has already been downloaded into the `Data/` folder. We are starting with a pre-downloaded HTML page so that there aren't a hundred requests from the same place for the same page at the same server at the same time from (which will frequently result in you getting blocked from accessing that website!)"
   ]
  },
  {
   "cell_type": "code",
   "execution_count": null,
   "metadata": {
    "colab": {},
    "colab_type": "code",
    "id": "77JlswLjgsDs"
   },
   "outputs": [],
   "source": [
    "# Beautiful Soup version 4.x\n",
    "import bs4"
   ]
  },
  {
   "cell_type": "markdown",
   "metadata": {
    "colab_type": "text",
    "id": "SOv_whcLgsDz"
   },
   "source": [
    "We start by opening up the page and convert it to a `soup` object. Then, we're going to use the `find` method to find the page's `<title>` tag and print it."
   ]
  },
  {
   "cell_type": "code",
   "execution_count": null,
   "metadata": {
    "colab": {
     "base_uri": "https://localhost:8080/",
     "height": 52
    },
    "colab_type": "code",
    "executionInfo": {
     "elapsed": 744,
     "status": "ok",
     "timestamp": 1557650187907,
     "user": {
      "displayName": "Desmond Sek",
      "photoUrl": "https://lh3.googleusercontent.com/-kpaWQQmtEpQ/AAAAAAAAAAI/AAAAAAAAc5k/V4TZA_YKVSI/s64/photo.jpg",
      "userId": "15004601375355093954"
     },
     "user_tz": -480
    },
    "id": "w9oWRLycgsD1",
    "outputId": "2beabb74-b568-4580-cfdd-c15b8b45d59c"
   },
   "outputs": [],
   "source": [
    "# We specify the encoding of the file here because Windows\n",
    "# has problems reading some characters in it.\n",
    "\n",
    "from urllib.request import urlopen\n",
    "response = urlopen('http://bit.ly/scraping-html') \n",
    "soup = response.read()\n",
    "\n",
    "# with open(\"http://bit.ly/scraping-html\", \"r\", encoding=\"utf-8\") as wiki_file:\n",
    "soup = bs4.BeautifulSoup(soup)\n",
    "        \n",
    "title = soup.find('title')   #finds the FIRST <title> tag \n",
    "\n",
    "print(title)\n",
    "print(title.text)\n"
   ]
  },
  {
   "cell_type": "markdown",
   "metadata": {
    "colab_type": "text",
    "id": "0JW36oNmgsD5"
   },
   "source": [
    "Beautiful Soup converts HTML tags into its own `Tag` objects.`Tag` objects have many useful attributes."
   ]
  },
  {
   "cell_type": "code",
   "execution_count": null,
   "metadata": {
    "colab": {
     "base_uri": "https://localhost:8080/",
     "height": 69
    },
    "colab_type": "code",
    "executionInfo": {
     "elapsed": 630,
     "status": "ok",
     "timestamp": 1557650290349,
     "user": {
      "displayName": "Desmond Sek",
      "photoUrl": "https://lh3.googleusercontent.com/-kpaWQQmtEpQ/AAAAAAAAAAI/AAAAAAAAc5k/V4TZA_YKVSI/s64/photo.jpg",
      "userId": "15004601375355093954"
     },
     "user_tz": -480
    },
    "id": "NqDdL4I_gsD6",
    "outputId": "b6d4560e-fa14-497d-a043-5a3b8841e470"
   },
   "outputs": [],
   "source": [
    "print(type(title))\n",
    "print(title.text) # The text gives you the visible part of the tag\n",
    "print(title.name) # The type of tag"
   ]
  },
  {
   "cell_type": "markdown",
   "metadata": {
    "colab_type": "text",
    "id": "fvY_XP_5gsD-"
   },
   "source": [
    "If a tag has any html attributes, they can be accessed in a very \"pythonic\" way. That is, they are organized as a dictionary!\n",
    "\n"
   ]
  },
  {
   "cell_type": "code",
   "execution_count": null,
   "metadata": {
    "colab": {
     "base_uri": "https://localhost:8080/",
     "height": 69
    },
    "colab_type": "code",
    "executionInfo": {
     "elapsed": 638,
     "status": "ok",
     "timestamp": 1557650303092,
     "user": {
      "displayName": "Desmond Sek",
      "photoUrl": "https://lh3.googleusercontent.com/-kpaWQQmtEpQ/AAAAAAAAAAI/AAAAAAAAc5k/V4TZA_YKVSI/s64/photo.jpg",
      "userId": "15004601375355093954"
     },
     "user_tz": -480
    },
    "id": "KNhcGdzsgsD_",
    "outputId": "921370cb-79bc-43e4-b29d-e6b384613148"
   },
   "outputs": [],
   "source": [
    "h1 = soup.find(\"h1\")\n",
    "\n",
    "print(h1.attrs)\n",
    "print(h1[\"class\"])\n",
    "print(h1[\"id\"])"
   ]
  },
  {
   "cell_type": "markdown",
   "metadata": {
    "colab_type": "text",
    "id": "DKiihFQLgsEE"
   },
   "source": [
    "Instead of searching for `Tags` one by one, we can also retrieve them all at once.  As an example, let's find all level 2 headers. To this end, we use the `find_all` method."
   ]
  },
  {
   "cell_type": "code",
   "execution_count": null,
   "metadata": {
    "colab": {
     "base_uri": "https://localhost:8080/",
     "height": 54
    },
    "colab_type": "code",
    "executionInfo": {
     "elapsed": 1738,
     "status": "ok",
     "timestamp": 1557650451392,
     "user": {
      "displayName": "Desmond Sek",
      "photoUrl": "https://lh3.googleusercontent.com/-kpaWQQmtEpQ/AAAAAAAAAAI/AAAAAAAAc5k/V4TZA_YKVSI/s64/photo.jpg",
      "userId": "15004601375355093954"
     },
     "user_tz": -480
    },
    "id": "ati3bbtTgsEF",
    "outputId": "5e8a0828-8481-40e2-b6fa-94c4e8a65a47"
   },
   "outputs": [],
   "source": [
    "headers = soup.find_all('h2')\n",
    "\n",
    "print(headers)"
   ]
  },
  {
   "cell_type": "code",
   "execution_count": null,
   "metadata": {
    "colab": {
     "base_uri": "https://localhost:8080/",
     "height": 34
    },
    "colab_type": "code",
    "executionInfo": {
     "elapsed": 839,
     "status": "ok",
     "timestamp": 1557650464098,
     "user": {
      "displayName": "Desmond Sek",
      "photoUrl": "https://lh3.googleusercontent.com/-kpaWQQmtEpQ/AAAAAAAAAAI/AAAAAAAAc5k/V4TZA_YKVSI/s64/photo.jpg",
      "userId": "15004601375355093954"
     },
     "user_tz": -480
    },
    "id": "0cNVCve1M8LI",
    "outputId": "e3a5352e-5d71-4191-ff77-37348e327156"
   },
   "outputs": [],
   "source": [
    "type(headers)"
   ]
  },
  {
   "cell_type": "markdown",
   "metadata": {
    "colab_type": "text",
    "id": "hrPn-4eVgsEJ"
   },
   "source": [
    "Too much information!  In order to get the only the information that we need, we must restrict to the desired attribute."
   ]
  },
  {
   "cell_type": "code",
   "execution_count": null,
   "metadata": {
    "colab": {
     "base_uri": "https://localhost:8080/",
     "height": 157
    },
    "colab_type": "code",
    "executionInfo": {
     "elapsed": 922,
     "status": "ok",
     "timestamp": 1557650501151,
     "user": {
      "displayName": "Desmond Sek",
      "photoUrl": "https://lh3.googleusercontent.com/-kpaWQQmtEpQ/AAAAAAAAAAI/AAAAAAAAc5k/V4TZA_YKVSI/s64/photo.jpg",
      "userId": "15004601375355093954"
     },
     "user_tz": -480
    },
    "id": "E695_VZNgsEK",
    "outputId": "c1f615d5-0f5e-4ddb-b9a3-5d42551da2c5"
   },
   "outputs": [],
   "source": [
    "for header in headers:\n",
    "    print(header.text)"
   ]
  },
  {
   "cell_type": "markdown",
   "metadata": {
    "colab_type": "text",
    "id": "IarTKKTNgsEO"
   },
   "source": [
    "Another `Tag` that that is useful and that demonstrate some of the other useful attributes is the one for webpages that our page points to:"
   ]
  },
  {
   "cell_type": "code",
   "execution_count": null,
   "metadata": {
    "colab": {
     "base_uri": "https://localhost:8080/",
     "height": 12602
    },
    "colab_type": "code",
    "executionInfo": {
     "elapsed": 613,
     "status": "ok",
     "timestamp": 1557651099880,
     "user": {
      "displayName": "Desmond Sek",
      "photoUrl": "https://lh3.googleusercontent.com/-kpaWQQmtEpQ/AAAAAAAAAAI/AAAAAAAAc5k/V4TZA_YKVSI/s64/photo.jpg",
      "userId": "15004601375355093954"
     },
     "user_tz": -480
    },
    "id": "IjBaE_qvgsEQ",
    "outputId": "28c0d6e7-43da-4190-9f73-3c6ae2504c65",
    "scrolled": false
   },
   "outputs": [],
   "source": [
    "links = soup.find_all('a')\n",
    "\n",
    "for link in links:  # Showing just the first 10 links for brevity\n",
    "    # href represents the target of the link\n",
    "    # Where the link actually goes to!\n",
    "    print('-----', link.text)\n",
    "    print(link.get('href'))  "
   ]
  },
  {
   "cell_type": "markdown",
   "metadata": {
    "colab_type": "text",
    "id": "zAcoukhPgsEW"
   },
   "source": [
    "### Searching using attribute information\n",
    "\n",
    "Some `Tag` elements have attributes associated with them. These includes `id`, `class_`, `href`.  Our search can restrict results to attributes with a specific value or to results where the attribute type is included.\n",
    "\n",
    "Note that we must use `class_` instead of `class` to avoid conflicts with Python's built-in keyword. \n",
    "\n"
   ]
  },
  {
   "cell_type": "code",
   "execution_count": null,
   "metadata": {
    "colab": {
     "base_uri": "https://localhost:8080/",
     "height": 52
    },
    "colab_type": "code",
    "executionInfo": {
     "elapsed": 785,
     "status": "ok",
     "timestamp": 1557650728374,
     "user": {
      "displayName": "Desmond Sek",
      "photoUrl": "https://lh3.googleusercontent.com/-kpaWQQmtEpQ/AAAAAAAAAAI/AAAAAAAAc5k/V4TZA_YKVSI/s64/photo.jpg",
      "userId": "15004601375355093954"
     },
     "user_tz": -480
    },
    "id": "ltwHulxKgsEX",
    "outputId": "7e8e9493-dc87-4cc3-995c-6b9186e73f7b"
   },
   "outputs": [],
   "source": [
    "# Retrieve the element with the attribute \"id\" equal to \"Early_career\"\n",
    "tag = soup.find(id=\"Early_career\")\n",
    "print(tag)\n",
    "print(tag.text)"
   ]
  },
  {
   "cell_type": "code",
   "execution_count": null,
   "metadata": {
    "colab": {
     "base_uri": "https://localhost:8080/",
     "height": 34
    },
    "colab_type": "code",
    "executionInfo": {
     "elapsed": 647,
     "status": "ok",
     "timestamp": 1557650787459,
     "user": {
      "displayName": "Desmond Sek",
      "photoUrl": "https://lh3.googleusercontent.com/-kpaWQQmtEpQ/AAAAAAAAAAI/AAAAAAAAc5k/V4TZA_YKVSI/s64/photo.jpg",
      "userId": "15004601375355093954"
     },
     "user_tz": -480
    },
    "id": "h_6FelV-gsEd",
    "outputId": "a6254050-8eab-4b16-f3e9-6817eaaff347"
   },
   "outputs": [],
   "source": [
    "# Retrieve all elements with an href attribute\n",
    "all_links = soup.find_all(href=True)\n",
    "print(len(all_links))"
   ]
  },
  {
   "cell_type": "code",
   "execution_count": null,
   "metadata": {
    "colab": {
     "base_uri": "https://localhost:8080/",
     "height": 212
    },
    "colab_type": "code",
    "executionInfo": {
     "elapsed": 813,
     "status": "ok",
     "timestamp": 1557650826481,
     "user": {
      "displayName": "Desmond Sek",
      "photoUrl": "https://lh3.googleusercontent.com/-kpaWQQmtEpQ/AAAAAAAAAAI/AAAAAAAAc5k/V4TZA_YKVSI/s64/photo.jpg",
      "userId": "15004601375355093954"
     },
     "user_tz": -480
    },
    "id": "yYKCamkDgsEh",
    "outputId": "1068c642-89ea-4894-c72d-7d8e1b09f0b6",
    "scrolled": false
   },
   "outputs": [],
   "source": [
    "# Retrieve inline citations -- they are <sup> elements with the class \"reference\"\n",
    "soup.find_all(\"sup\", class_=\"reference\")[5:15]"
   ]
  },
  {
   "cell_type": "code",
   "execution_count": null,
   "metadata": {
    "colab": {
     "base_uri": "https://localhost:8080/",
     "height": 262
    },
    "colab_type": "code",
    "executionInfo": {
     "elapsed": 2677,
     "status": "ok",
     "timestamp": 1557638225068,
     "user": {
      "displayName": "Desmond Sek",
      "photoUrl": "https://lh3.googleusercontent.com/-kpaWQQmtEpQ/AAAAAAAAAAI/AAAAAAAAc5k/V4TZA_YKVSI/s64/photo.jpg",
      "userId": "15004601375355093954"
     },
     "user_tz": -480
    },
    "id": "bHIIQXTHgsEk",
    "outputId": "59695340-711e-40c4-f840-29abe8627595"
   },
   "outputs": [],
   "source": [
    "# Retrieve all tags with class=mw-headline and an id attribute (regardless of value)\n",
    "soup.find_all(attrs={\"class\": \"mw-headline\", \"id\": True})"
   ]
  },
  {
   "cell_type": "markdown",
   "metadata": {
    "colab_type": "text",
    "id": "7XoUKdFBgsEz"
   },
   "source": [
    "### Navigating the HTML tree with BeautifulSoup\n",
    "\n",
    "\n",
    "Besides being able to search elements anywhere on the whole html tree, beautiful soup also allows you to navigate the tree in any direction.\n",
    "\n",
    "Let's try to get at the first paragraph (`<p>`) in the `Club career` section starting from the section's title tag.\n",
    "\n",
    "Here's the relevant HTML snippet:\n",
    "\n",
    "```html\n",
    "    <h2>\n",
    "      <span class=\"mw-headline\" id=\"Club_career\">Club career</span>\n",
    "      <span class=\"mw-editsection\">\n",
    "        <span class=\"mw-editsection-bracket\">[</span>\n",
    "        <a href=\"/w/index.php?title=Erik_Durm&amp;action=edit&amp;section=1\" title=\"Edit section: Club career\">edit</a>\n",
    "        <span class=\"mw-editsection-bracket\">]</span>\n",
    "      </span>\n",
    "    </h2>\n",
    "    <h3>\n",
    "      <span class=\"mw-headline\" id=\"Early_career\">Early career</span>\n",
    "      <span class=\"mw-editsection\">\n",
    "        <span class=\"mw-editsection-bracket\">[</span>\n",
    "        <a href=\"/w/index.php?title=Erik_Durm&amp;action=edit&amp;section=2\" title=\"Edit section: Early career\">edit</a>\n",
    "        <span class=\"mw-editsection-bracket\">]</span>\n",
    "      </span>\n",
    "    </h3>\n",
    "    <p>Durm began his club career in 1998 at the academy of SG Rieschweiler....</p>\n",
    "```\n",
    "\n",
    "We can see that that section of text is *under* the \"Club career\" title: "
   ]
  },
  {
   "cell_type": "code",
   "execution_count": null,
   "metadata": {
    "colab": {
     "base_uri": "https://localhost:8080/",
     "height": 69
    },
    "colab_type": "code",
    "executionInfo": {
     "elapsed": 735,
     "status": "ok",
     "timestamp": 1557651566143,
     "user": {
      "displayName": "Desmond Sek",
      "photoUrl": "https://lh3.googleusercontent.com/-kpaWQQmtEpQ/AAAAAAAAAAI/AAAAAAAAc5k/V4TZA_YKVSI/s64/photo.jpg",
      "userId": "15004601375355093954"
     },
     "user_tz": -480
    },
    "id": "BDH3STDggsE0",
    "outputId": "ab09a57d-1b7b-41a3-e064-cfb2bb31a133"
   },
   "outputs": [],
   "source": [
    "section_headline = soup.find(id=\"Club_career\")\n",
    "print(section_headline)\n",
    "print(section_headline.text)\n",
    "section_headline.contents"
   ]
  },
  {
   "cell_type": "markdown",
   "metadata": {
    "colab_type": "text",
    "id": "umuVRRbwgsE8"
   },
   "source": [
    "The `contents` attribute lets us access everything that is inside a given tag. In this case we find only the visible text of the tag.\n",
    "\n",
    "Looking at the webpage snippet, we see that the tag `<p>` is at the same level as the tags `<h2>` and `<h3>`.  Hence, we need to navigate up one level (to the `<h2>` tag), then navigate to its second sibling (first `<h3>` then `<p>`)."
   ]
  },
  {
   "cell_type": "code",
   "execution_count": null,
   "metadata": {
    "colab": {
     "base_uri": "https://localhost:8080/",
     "height": 89
    },
    "colab_type": "code",
    "executionInfo": {
     "elapsed": 836,
     "status": "ok",
     "timestamp": 1557651635168,
     "user": {
      "displayName": "Desmond Sek",
      "photoUrl": "https://lh3.googleusercontent.com/-kpaWQQmtEpQ/AAAAAAAAAAI/AAAAAAAAc5k/V4TZA_YKVSI/s64/photo.jpg",
      "userId": "15004601375355093954"
     },
     "user_tz": -480
    },
    "id": "Dh3tnp6WgsFA",
    "outputId": "45ecfc4f-d647-426b-9073-8fe758a738c6"
   },
   "outputs": [],
   "source": [
    "parent_h2 = section_headline.parent  # Up one level\n",
    "print( parent_h2.name == \"h2\" )      # Is it the <h2> tag?\n",
    "print()\n",
    "print(parent_h2.contents)            "
   ]
  },
  {
   "cell_type": "code",
   "execution_count": null,
   "metadata": {
    "colab": {
     "base_uri": "https://localhost:8080/",
     "height": 34
    },
    "colab_type": "code",
    "executionInfo": {
     "elapsed": 630,
     "status": "ok",
     "timestamp": 1557651745511,
     "user": {
      "displayName": "Desmond Sek",
      "photoUrl": "https://lh3.googleusercontent.com/-kpaWQQmtEpQ/AAAAAAAAAAI/AAAAAAAAc5k/V4TZA_YKVSI/s64/photo.jpg",
      "userId": "15004601375355093954"
     },
     "user_tz": -480
    },
    "id": "v8T4P0nvgsFF",
    "outputId": "674820c7-fcf1-4b9c-ff45-baa5dda1062a"
   },
   "outputs": [],
   "source": [
    "one_step = parent_h2.next_sibling\n",
    "print(one_step.name)"
   ]
  },
  {
   "cell_type": "code",
   "execution_count": null,
   "metadata": {
    "colab": {
     "base_uri": "https://localhost:8080/",
     "height": 34
    },
    "colab_type": "code",
    "executionInfo": {
     "elapsed": 701,
     "status": "ok",
     "timestamp": 1557651756218,
     "user": {
      "displayName": "Desmond Sek",
      "photoUrl": "https://lh3.googleusercontent.com/-kpaWQQmtEpQ/AAAAAAAAAAI/AAAAAAAAc5k/V4TZA_YKVSI/s64/photo.jpg",
      "userId": "15004601375355093954"
     },
     "user_tz": -480
    },
    "id": "LlRaTzF-gsFK",
    "outputId": "94e99d85-bbae-4052-adb8-84a503fc8cb8"
   },
   "outputs": [],
   "source": [
    "two_steps = one_step.next_sibling\n",
    "print(two_steps.name)"
   ]
  },
  {
   "cell_type": "markdown",
   "metadata": {
    "colab_type": "text",
    "id": "0Qkbw9VGgsFT"
   },
   "source": [
    "We are only at the `<h3>` tag even though we moved past two siblings.  The reason is that some of the siblings in the soup are not actual HTML elements. Some could simply be empty lines."
   ]
  },
  {
   "cell_type": "code",
   "execution_count": null,
   "metadata": {
    "colab": {
     "base_uri": "https://localhost:8080/",
     "height": 34
    },
    "colab_type": "code",
    "executionInfo": {
     "elapsed": 2638,
     "status": "ok",
     "timestamp": 1557638225081,
     "user": {
      "displayName": "Desmond Sek",
      "photoUrl": "https://lh3.googleusercontent.com/-kpaWQQmtEpQ/AAAAAAAAAAI/AAAAAAAAc5k/V4TZA_YKVSI/s64/photo.jpg",
      "userId": "15004601375355093954"
     },
     "user_tz": -480
    },
    "id": "Sv3Jl11-gsFV",
    "outputId": "78cfed16-82b5-422e-b9d7-8f1c5a3e5a3c"
   },
   "outputs": [],
   "source": [
    "three_steps = two_steps.next_sibling\n",
    "print(three_steps.name)"
   ]
  },
  {
   "cell_type": "code",
   "execution_count": null,
   "metadata": {
    "colab": {
     "base_uri": "https://localhost:8080/",
     "height": 34
    },
    "colab_type": "code",
    "executionInfo": {
     "elapsed": 2624,
     "status": "ok",
     "timestamp": 1557638225083,
     "user": {
      "displayName": "Desmond Sek",
      "photoUrl": "https://lh3.googleusercontent.com/-kpaWQQmtEpQ/AAAAAAAAAAI/AAAAAAAAc5k/V4TZA_YKVSI/s64/photo.jpg",
      "userId": "15004601375355093954"
     },
     "user_tz": -480
    },
    "id": "_1pwSypugsFa",
    "outputId": "c33c354a-538c-47b5-c158-f89de6d74515"
   },
   "outputs": [],
   "source": [
    "four_steps = three_steps.next_sibling\n",
    "print(four_steps.name)"
   ]
  },
  {
   "cell_type": "code",
   "execution_count": null,
   "metadata": {
    "colab": {
     "base_uri": "https://localhost:8080/",
     "height": 54
    },
    "colab_type": "code",
    "executionInfo": {
     "elapsed": 2611,
     "status": "ok",
     "timestamp": 1557638225085,
     "user": {
      "displayName": "Desmond Sek",
      "photoUrl": "https://lh3.googleusercontent.com/-kpaWQQmtEpQ/AAAAAAAAAAI/AAAAAAAAc5k/V4TZA_YKVSI/s64/photo.jpg",
      "userId": "15004601375355093954"
     },
     "user_tz": -480
    },
    "id": "IpLi60hngsFd",
    "outputId": "c99d7164-65b8-48a4-f70c-3225c3aa163f"
   },
   "outputs": [],
   "source": [
    "print(four_steps.contents)"
   ]
  },
  {
   "cell_type": "markdown",
   "metadata": {
    "colab_type": "text",
    "id": "zfyotPtMgsFk"
   },
   "source": [
    "Ok. Now we are where we wanted to be. We have the text corresponding to the `<p>` tag.  This is something we must always be mindful about. Web scraping can, and very frequently will be, messy and will involve trial-and-error...\n",
    "\n",
    "We can the contents of our desired element is a list.  Let's obtain the number of elements and check what they contain."
   ]
  },
  {
   "cell_type": "code",
   "execution_count": null,
   "metadata": {
    "colab": {
     "base_uri": "https://localhost:8080/",
     "height": 69
    },
    "colab_type": "code",
    "executionInfo": {
     "elapsed": 2597,
     "status": "ok",
     "timestamp": 1557638225087,
     "user": {
      "displayName": "Desmond Sek",
      "photoUrl": "https://lh3.googleusercontent.com/-kpaWQQmtEpQ/AAAAAAAAAAI/AAAAAAAAc5k/V4TZA_YKVSI/s64/photo.jpg",
      "userId": "15004601375355093954"
     },
     "user_tz": -480
    },
    "id": "o6MqsKdAgsFm",
    "outputId": "0ee22640-0292-4fc2-a1d7-749206a25722"
   },
   "outputs": [],
   "source": [
    "print(len(four_steps.contents))\n",
    "print(four_steps.contents[1])\n",
    "print(four_steps.contents[5])"
   ]
  },
  {
   "cell_type": "markdown",
   "metadata": {
    "colab_type": "text",
    "id": "PXaDMt26gsFu"
   },
   "source": [
    "In order to find the desired tag, we choose a easily identifiable starting point -- `id` is great because its value must be unique -- and then navigate the HTML tree to the correct parent and transversed siblings until we got to the right one. \n",
    "\n",
    "Clearly, this is not a very elegant solution. If there were hundreds of siblings that would have been very cumbersome. Fortunately, there is an alternative way:"
   ]
  },
  {
   "cell_type": "code",
   "execution_count": null,
   "metadata": {
    "colab": {
     "base_uri": "https://localhost:8080/",
     "height": 54
    },
    "colab_type": "code",
    "executionInfo": {
     "elapsed": 2588,
     "status": "ok",
     "timestamp": 1557638225088,
     "user": {
      "displayName": "Desmond Sek",
      "photoUrl": "https://lh3.googleusercontent.com/-kpaWQQmtEpQ/AAAAAAAAAAI/AAAAAAAAc5k/V4TZA_YKVSI/s64/photo.jpg",
      "userId": "15004601375355093954"
     },
     "user_tz": -480
    },
    "id": "N6186Bw-gsFv",
    "outputId": "0f597260-089d-4430-fcc4-4fa6d5ad6b08"
   },
   "outputs": [],
   "source": [
    "parent_h2.find_next_sibling(\"p\")"
   ]
  },
  {
   "cell_type": "markdown",
   "metadata": {},
   "source": [
    "# Exercise\n",
    "Let's put our newly acquired web scraping skills to the test! You are to inspect a locally saved HTML web page \"my_hexaco.html\" and extract names and respective scores of the six broad \"factor\" scales and the 25 narrow \"facet\" scales."
   ]
  },
  {
   "cell_type": "code",
   "execution_count": 1,
   "metadata": {},
   "outputs": [],
   "source": [
    "# Beautiful Soup version 4.x\n",
    "import bs4"
   ]
  },
  {
   "cell_type": "code",
   "execution_count": 2,
   "metadata": {
    "colab": {
     "base_uri": "https://localhost:8080/",
     "height": 184
    },
    "colab_type": "code",
    "executionInfo": {
     "elapsed": 4591,
     "status": "error",
     "timestamp": 1557638227120,
     "user": {
      "displayName": "Desmond Sek",
      "photoUrl": "https://lh3.googleusercontent.com/-kpaWQQmtEpQ/AAAAAAAAAAI/AAAAAAAAc5k/V4TZA_YKVSI/s64/photo.jpg",
      "userId": "15004601375355093954"
     },
     "user_tz": -480
    },
    "id": "SF9WhsDLgsGH",
    "outputId": "2226daad-7f0c-4fc2-d499-57b10ca97723"
   },
   "outputs": [],
   "source": [
    "with open(\"./my_hexaco.html\", \"r\", encoding=\"utf-8\") as hexaco_file:\n",
    "    soup = bs4.BeautifulSoup(hexaco_file.read())"
   ]
  },
  {
   "cell_type": "markdown",
   "metadata": {
    "colab_type": "text",
    "id": "ZZ1mrIRFgsGW"
   },
   "source": [
    "1 - Find the `<table>` element, that contains your results."
   ]
  },
  {
   "cell_type": "code",
   "execution_count": 3,
   "metadata": {
    "colab": {},
    "colab_type": "code",
    "id": "lDbcVftsgsGX"
   },
   "outputs": [],
   "source": [
    "table = soup.find('table') # your search terms inside the `find` method"
   ]
  },
  {
   "cell_type": "markdown",
   "metadata": {
    "colab_type": "text",
    "id": "gjQVvI5QgsGa"
   },
   "source": [
    "2 -  Find all the scale names using the `table` variable from above"
   ]
  },
  {
   "cell_type": "code",
   "execution_count": 4,
   "metadata": {
    "colab": {},
    "colab_type": "code",
    "id": "MqjO8do_gsGb",
    "scrolled": false
   },
   "outputs": [],
   "source": [
    "# Find all table rows, skipping the first two which don't matter\n",
    "broad_scale_names = []\n",
    "narrow_scale_names = []\n",
    "\n",
    "for tag in table.find_all(\"tr\")[2:]:\n",
    "    cells = tag.find_all(\"td\")\n",
    "\n",
    "    # Your code here    \n",
    "    name_contents = cells[0]   # tag contents containing the scale name\n",
    "    child = name_contents.findChildren('b', recursive=False)\n",
    "    if child:\n",
    "        # Broad scale found\n",
    "        broad_scale_names.append(child[0].text.strip())  \n",
    "    else:\n",
    "        # Narrow scale found\n",
    "        narrow_scale_names.append(name_contents.contents[0].strip())"
   ]
  },
  {
   "cell_type": "code",
   "execution_count": 5,
   "metadata": {},
   "outputs": [],
   "source": [
    "# Now to find the same for only the scores\n",
    "scores = []\n",
    "\n",
    "for tag in table.find_all(\"tr\")[2:]:\n",
    "    cells = tag.find_all(\"td\")\n",
    "\n",
    "    # Your code here    \n",
    "    score_contents = cells[1]   # tag contents containing the score\n",
    "    score_details = score_contents.find('div', attrs={'data-original-title': True}).attrs['data-original-title']\n",
    "    score = float(score_details.split(':')[1].strip())\n",
    "    scores.append(score)"
   ]
  },
  {
   "cell_type": "markdown",
   "metadata": {
    "colab_type": "text",
    "id": "nHFLSKpJgsGj"
   },
   "source": [
    "3: Now get both the scale names and your own scores associated with each scale"
   ]
  },
  {
   "cell_type": "code",
   "execution_count": 6,
   "metadata": {
    "colab": {},
    "colab_type": "code",
    "id": "4IF8dp05gsGo"
   },
   "outputs": [],
   "source": [
    "# Find all table rows, skipping the first two which don't matter\n",
    "from collections import OrderedDict\n",
    "broad_scales = OrderedDict()\n",
    "narrow_scales = OrderedDict()\n",
    "\n",
    "for tag in table.find_all(\"tr\")[2:]:\n",
    "    cells = tag.find_all(\"td\")\n",
    "\n",
    "    # Your code here\n",
    "    score_contents = cells[1]   # tag contents containing the score\n",
    "    score_details = score_contents.find('div', attrs={'data-original-title': True}).attrs['data-original-title']\n",
    "    score = float(score_details.split(':')[1].strip())\n",
    "    \n",
    "    name_contents = cells[0]   # tag contents containing the scale name\n",
    "    child = name_contents.findChildren('b', recursive=False)\n",
    "    if child:\n",
    "        # Broad scale found\n",
    "        broad_scales[child[0].text.strip()] = score\n",
    "    else:\n",
    "        # Narrow scale found\n",
    "        narrow_scales[name_contents.contents[0].strip()] = score"
   ]
  },
  {
   "cell_type": "code",
   "execution_count": 7,
   "metadata": {},
   "outputs": [
    {
     "data": {
      "text/plain": [
       "OrderedDict([('Honesty-Humility', 3.5),\n",
       "             ('Emotionality', 3.69),\n",
       "             ('eXtraversion', 2.31),\n",
       "             ('Agreeableness', 3.63),\n",
       "             ('Conscientiousness', 3.75),\n",
       "             ('Openness to Experience', 2.81)])"
      ]
     },
     "execution_count": 7,
     "metadata": {},
     "output_type": "execute_result"
    }
   ],
   "source": [
    "broad_scales"
   ]
  },
  {
   "cell_type": "code",
   "execution_count": 8,
   "metadata": {},
   "outputs": [
    {
     "data": {
      "text/plain": [
       "OrderedDict([('Sincerity', 3.0),\n",
       "             ('Fairness', 3.5),\n",
       "             ('Greed-Avoidance', 3.75),\n",
       "             ('Modesty', 3.75),\n",
       "             ('Fearfulness', 3.25),\n",
       "             ('Anxiety', 4.5),\n",
       "             ('Dependence', 3.5),\n",
       "             ('Sentimentality', 3.5),\n",
       "             ('Social Self-Esteem', 3.25),\n",
       "             ('Social Boldness', 2.0),\n",
       "             ('Sociability', 1.5),\n",
       "             ('Liveliness', 2.5),\n",
       "             ('Forgivingness', 3.5),\n",
       "             ('Gentleness', 3.5),\n",
       "             ('Flexibility', 3.5),\n",
       "             ('Patience', 4.0),\n",
       "             ('Organization', 4.5),\n",
       "             ('Diligence', 3.75),\n",
       "             ('Perfectionism', 3.25),\n",
       "             ('Prudence', 3.5),\n",
       "             ('Aesthetic Appreciation', 2.25),\n",
       "             ('Inquisitiveness', 3.5),\n",
       "             ('Creativity', 2.75),\n",
       "             ('Unconventionality', 2.75),\n",
       "             ('Altruism', 3.5)])"
      ]
     },
     "execution_count": 8,
     "metadata": {},
     "output_type": "execute_result"
    }
   ],
   "source": [
    "narrow_scales"
   ]
  },
  {
   "cell_type": "code",
   "execution_count": null,
   "metadata": {},
   "outputs": [],
   "source": []
  }
 ],
 "metadata": {
  "colab": {
   "collapsed_sections": [
    "7XoUKdFBgsEz"
   ],
   "name": "Day5_2_Web_scraping.ipynb",
   "provenance": [],
   "version": "0.3.2"
  },
  "kernelspec": {
   "display_name": "Python 3",
   "language": "python",
   "name": "python3"
  },
  "language_info": {
   "codemirror_mode": {
    "name": "ipython",
    "version": 3
   },
   "file_extension": ".py",
   "mimetype": "text/x-python",
   "name": "python",
   "nbconvert_exporter": "python",
   "pygments_lexer": "ipython3",
   "version": "3.8.5"
  }
 },
 "nbformat": 4,
 "nbformat_minor": 1
}
